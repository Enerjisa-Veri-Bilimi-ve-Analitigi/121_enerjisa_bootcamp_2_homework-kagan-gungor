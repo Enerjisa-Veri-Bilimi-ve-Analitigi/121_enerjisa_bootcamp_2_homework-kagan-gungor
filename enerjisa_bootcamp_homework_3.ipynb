{
 "cells": [
  {
   "cell_type": "code",
   "execution_count": 1,
   "metadata": {},
   "outputs": [],
   "source": [
    "import numpy as np\n",
    "import pandas as pd\n",
    "import matplotlib.pyplot as plt\n",
    "import seaborn as sns\n",
    "\n",
    "from sklearn.preprocessing import OneHotEncoder, StandardScaler\n",
    "from sklearn.pipeline import make_pipeline\n",
    "from sklearn.compose import make_column_transformer\n",
    "from sklearn.model_selection import cross_val_score\n",
    "from sklearn.model_selection import train_test_split\n",
    "from sklearn.metrics import classification_report\n",
    "from sklearn.metrics import confusion_matrix\n",
    "\n",
    "from imblearn.under_sampling import RandomUnderSampler\n",
    "from imblearn.over_sampling import SMOTE, RandomOverSampler\n",
    "\n",
    "from sklearn.linear_model import LogisticRegression\n",
    "from sklearn.ensemble import RandomForestClassifier\n",
    "from sklearn.tree import DecisionTreeClassifier\n",
    "from sklearn.neighbors import KNeighborsClassifier\n",
    "from sklearn.svm import SVC\n",
    "\n",
    "from IPython.display import Image\n",
    "import warnings\n",
    "warnings.filterwarnings('ignore')"
   ]
  },
  {
   "cell_type": "markdown",
   "metadata": {},
   "source": [
    "# Ödev 3\n",
    "Bu ödevde elimizde fraud(dolandırıcılık) tespiti yapılması istenen bir veri seti bulunmaktadır. Uçtan uca bir makine öğrenmesi projesi olarak tasarlanırken sırasıyla aşağıdaki sorulara cevap verilecektir.\n",
    "\n",
    "1-) One hot encoding modelin görmediği veriye nasıl uygulanır?\n",
    "\n",
    "2-) Labelencoding'de ilgili kolon için ölçeklendirme nasıl yapılır? \n",
    "(Verinin doğru etkisiyle sayısal olarak dönüştürülmesi)\n",
    "\n",
    "3-) Imbalance datasette train test split yaparken neleri göz önünde bulundurmalıyız?\n",
    "\n",
    "4-) Validation dataseti (modelin görmediği) nasıl oluşturulur ve nasıl predict etmeye hazır hale getirilir?\n",
    "\n",
    "5-) predict_proba metoduyla oran nasıl hesaplanır ve treshold nasıl değiştirilir?"
   ]
  },
  {
   "cell_type": "code",
   "execution_count": 2,
   "metadata": {},
   "outputs": [
    {
     "data": {
      "text/html": [
       "<div>\n",
       "<style scoped>\n",
       "    .dataframe tbody tr th:only-of-type {\n",
       "        vertical-align: middle;\n",
       "    }\n",
       "\n",
       "    .dataframe tbody tr th {\n",
       "        vertical-align: top;\n",
       "    }\n",
       "\n",
       "    .dataframe thead th {\n",
       "        text-align: right;\n",
       "    }\n",
       "</style>\n",
       "<table border=\"1\" class=\"dataframe\">\n",
       "  <thead>\n",
       "    <tr style=\"text-align: right;\">\n",
       "      <th></th>\n",
       "      <th>Unnamed: 0</th>\n",
       "      <th>months_as_customer</th>\n",
       "      <th>age</th>\n",
       "      <th>policy_number</th>\n",
       "      <th>policy_bind_date</th>\n",
       "      <th>policy_state</th>\n",
       "      <th>policy_csl</th>\n",
       "      <th>policy_deductable</th>\n",
       "      <th>policy_annual_premium</th>\n",
       "      <th>umbrella_limit</th>\n",
       "      <th>insured_zip</th>\n",
       "      <th>insured_sex</th>\n",
       "      <th>insured_education_level</th>\n",
       "      <th>insured_occupation</th>\n",
       "      <th>insured_hobbies</th>\n",
       "      <th>insured_relationship</th>\n",
       "      <th>capital-gains</th>\n",
       "      <th>capital-loss</th>\n",
       "      <th>incident_date</th>\n",
       "      <th>incident_type</th>\n",
       "      <th>collision_type</th>\n",
       "      <th>incident_severity</th>\n",
       "      <th>authorities_contacted</th>\n",
       "      <th>incident_state</th>\n",
       "      <th>incident_city</th>\n",
       "      <th>incident_location</th>\n",
       "      <th>incident_hour_of_the_day</th>\n",
       "      <th>number_of_vehicles_involved</th>\n",
       "      <th>property_damage</th>\n",
       "      <th>bodily_injuries</th>\n",
       "      <th>witnesses</th>\n",
       "      <th>police_report_available</th>\n",
       "      <th>total_claim_amount</th>\n",
       "      <th>injury_claim</th>\n",
       "      <th>property_claim</th>\n",
       "      <th>vehicle_claim</th>\n",
       "      <th>auto_make</th>\n",
       "      <th>auto_model</th>\n",
       "      <th>auto_year</th>\n",
       "      <th>fraud_reported</th>\n",
       "      <th>_c39</th>\n",
       "    </tr>\n",
       "  </thead>\n",
       "  <tbody>\n",
       "    <tr>\n",
       "      <th>0</th>\n",
       "      <td>0</td>\n",
       "      <td>328</td>\n",
       "      <td>48.0</td>\n",
       "      <td>521585</td>\n",
       "      <td>2014-10-17</td>\n",
       "      <td>OH</td>\n",
       "      <td>250/500</td>\n",
       "      <td>1000</td>\n",
       "      <td>1406.91</td>\n",
       "      <td>0.0</td>\n",
       "      <td>466132</td>\n",
       "      <td>MALE</td>\n",
       "      <td>MD</td>\n",
       "      <td>craft-repair</td>\n",
       "      <td>sleeping</td>\n",
       "      <td>husband</td>\n",
       "      <td>53300</td>\n",
       "      <td>0</td>\n",
       "      <td>2015-01-25</td>\n",
       "      <td>Single Vehicle Collision</td>\n",
       "      <td>Side Collision</td>\n",
       "      <td>Major Damage</td>\n",
       "      <td>Police</td>\n",
       "      <td>SC</td>\n",
       "      <td>Columbus</td>\n",
       "      <td>9935 4th Drive</td>\n",
       "      <td>5</td>\n",
       "      <td>1</td>\n",
       "      <td>YES</td>\n",
       "      <td>1</td>\n",
       "      <td>2</td>\n",
       "      <td>YES</td>\n",
       "      <td>71610</td>\n",
       "      <td>6510</td>\n",
       "      <td>13020</td>\n",
       "      <td>52080</td>\n",
       "      <td>Saab</td>\n",
       "      <td>92x</td>\n",
       "      <td>2004</td>\n",
       "      <td>Y</td>\n",
       "      <td>NaN</td>\n",
       "    </tr>\n",
       "    <tr>\n",
       "      <th>1</th>\n",
       "      <td>1</td>\n",
       "      <td>228</td>\n",
       "      <td>42.0</td>\n",
       "      <td>342868</td>\n",
       "      <td>2006-06-27</td>\n",
       "      <td>IN</td>\n",
       "      <td>250/500</td>\n",
       "      <td>2000</td>\n",
       "      <td>1197.22</td>\n",
       "      <td>5000000.0</td>\n",
       "      <td>468176</td>\n",
       "      <td>MALE</td>\n",
       "      <td>MD</td>\n",
       "      <td>machine-op-inspct</td>\n",
       "      <td>reading</td>\n",
       "      <td>other-relative</td>\n",
       "      <td>0</td>\n",
       "      <td>0</td>\n",
       "      <td>2015-01-21</td>\n",
       "      <td>Vehicle Theft</td>\n",
       "      <td>?</td>\n",
       "      <td>Minor Damage</td>\n",
       "      <td>Police</td>\n",
       "      <td>VA</td>\n",
       "      <td>Riverwood</td>\n",
       "      <td>6608 MLK Hwy</td>\n",
       "      <td>8</td>\n",
       "      <td>1</td>\n",
       "      <td>?</td>\n",
       "      <td>0</td>\n",
       "      <td>0</td>\n",
       "      <td>?</td>\n",
       "      <td>5070</td>\n",
       "      <td>780</td>\n",
       "      <td>780</td>\n",
       "      <td>3510</td>\n",
       "      <td>Mercedes</td>\n",
       "      <td>E400</td>\n",
       "      <td>2007</td>\n",
       "      <td>Y</td>\n",
       "      <td>NaN</td>\n",
       "    </tr>\n",
       "    <tr>\n",
       "      <th>2</th>\n",
       "      <td>2</td>\n",
       "      <td>134</td>\n",
       "      <td>29.0</td>\n",
       "      <td>687698</td>\n",
       "      <td>2000-09-06</td>\n",
       "      <td>OH</td>\n",
       "      <td>NaN</td>\n",
       "      <td>2000</td>\n",
       "      <td>1413.14</td>\n",
       "      <td>5000000.0</td>\n",
       "      <td>430632</td>\n",
       "      <td>FEMALE</td>\n",
       "      <td>PhD</td>\n",
       "      <td>sales</td>\n",
       "      <td>board-games</td>\n",
       "      <td>own-child</td>\n",
       "      <td>35100</td>\n",
       "      <td>0</td>\n",
       "      <td>2015-02-22</td>\n",
       "      <td>Multi-vehicle Collision</td>\n",
       "      <td>Rear Collision</td>\n",
       "      <td>Minor Damage</td>\n",
       "      <td>Police</td>\n",
       "      <td>NY</td>\n",
       "      <td>Columbus</td>\n",
       "      <td>7121 Francis Lane</td>\n",
       "      <td>7</td>\n",
       "      <td>3</td>\n",
       "      <td>NO</td>\n",
       "      <td>2</td>\n",
       "      <td>3</td>\n",
       "      <td>NaN</td>\n",
       "      <td>34650</td>\n",
       "      <td>7700</td>\n",
       "      <td>3850</td>\n",
       "      <td>23100</td>\n",
       "      <td>Dodge</td>\n",
       "      <td>RAM</td>\n",
       "      <td>2007</td>\n",
       "      <td>N</td>\n",
       "      <td>NaN</td>\n",
       "    </tr>\n",
       "    <tr>\n",
       "      <th>3</th>\n",
       "      <td>3</td>\n",
       "      <td>256</td>\n",
       "      <td>41.0</td>\n",
       "      <td>227811</td>\n",
       "      <td>1990-05-25</td>\n",
       "      <td>IL</td>\n",
       "      <td>NaN</td>\n",
       "      <td>2000</td>\n",
       "      <td>1415.74</td>\n",
       "      <td>6000000.0</td>\n",
       "      <td>608117</td>\n",
       "      <td>FEMALE</td>\n",
       "      <td>PhD</td>\n",
       "      <td>armed-forces</td>\n",
       "      <td>board-games</td>\n",
       "      <td>unmarried</td>\n",
       "      <td>48900</td>\n",
       "      <td>-62400</td>\n",
       "      <td>2015-01-10</td>\n",
       "      <td>Single Vehicle Collision</td>\n",
       "      <td>Front Collision</td>\n",
       "      <td>Major Damage</td>\n",
       "      <td>Police</td>\n",
       "      <td>OH</td>\n",
       "      <td>Arlington</td>\n",
       "      <td>6956 Maple Drive</td>\n",
       "      <td>5</td>\n",
       "      <td>1</td>\n",
       "      <td>?</td>\n",
       "      <td>1</td>\n",
       "      <td>2</td>\n",
       "      <td>NO</td>\n",
       "      <td>63400</td>\n",
       "      <td>6340</td>\n",
       "      <td>6340</td>\n",
       "      <td>50720</td>\n",
       "      <td>Chevrolet</td>\n",
       "      <td>Tahoe</td>\n",
       "      <td>2014</td>\n",
       "      <td>Y</td>\n",
       "      <td>NaN</td>\n",
       "    </tr>\n",
       "    <tr>\n",
       "      <th>4</th>\n",
       "      <td>4</td>\n",
       "      <td>228</td>\n",
       "      <td>44.0</td>\n",
       "      <td>367455</td>\n",
       "      <td>2014-06-06</td>\n",
       "      <td>IL</td>\n",
       "      <td>NaN</td>\n",
       "      <td>1000</td>\n",
       "      <td>1583.91</td>\n",
       "      <td>6000000.0</td>\n",
       "      <td>610706</td>\n",
       "      <td>MALE</td>\n",
       "      <td>Associate</td>\n",
       "      <td>sales</td>\n",
       "      <td>board-games</td>\n",
       "      <td>unmarried</td>\n",
       "      <td>66000</td>\n",
       "      <td>-46000</td>\n",
       "      <td>2015-02-17</td>\n",
       "      <td>Vehicle Theft</td>\n",
       "      <td>?</td>\n",
       "      <td>Minor Damage</td>\n",
       "      <td>None</td>\n",
       "      <td>NY</td>\n",
       "      <td>Arlington</td>\n",
       "      <td>3041 3rd Ave</td>\n",
       "      <td>20</td>\n",
       "      <td>1</td>\n",
       "      <td>NO</td>\n",
       "      <td>0</td>\n",
       "      <td>1</td>\n",
       "      <td>NaN</td>\n",
       "      <td>6500</td>\n",
       "      <td>1300</td>\n",
       "      <td>650</td>\n",
       "      <td>4550</td>\n",
       "      <td>Accura</td>\n",
       "      <td>RSX</td>\n",
       "      <td>2009</td>\n",
       "      <td>N</td>\n",
       "      <td>NaN</td>\n",
       "    </tr>\n",
       "    <tr>\n",
       "      <th>...</th>\n",
       "      <td>...</td>\n",
       "      <td>...</td>\n",
       "      <td>...</td>\n",
       "      <td>...</td>\n",
       "      <td>...</td>\n",
       "      <td>...</td>\n",
       "      <td>...</td>\n",
       "      <td>...</td>\n",
       "      <td>...</td>\n",
       "      <td>...</td>\n",
       "      <td>...</td>\n",
       "      <td>...</td>\n",
       "      <td>...</td>\n",
       "      <td>...</td>\n",
       "      <td>...</td>\n",
       "      <td>...</td>\n",
       "      <td>...</td>\n",
       "      <td>...</td>\n",
       "      <td>...</td>\n",
       "      <td>...</td>\n",
       "      <td>...</td>\n",
       "      <td>...</td>\n",
       "      <td>...</td>\n",
       "      <td>...</td>\n",
       "      <td>...</td>\n",
       "      <td>...</td>\n",
       "      <td>...</td>\n",
       "      <td>...</td>\n",
       "      <td>...</td>\n",
       "      <td>...</td>\n",
       "      <td>...</td>\n",
       "      <td>...</td>\n",
       "      <td>...</td>\n",
       "      <td>...</td>\n",
       "      <td>...</td>\n",
       "      <td>...</td>\n",
       "      <td>...</td>\n",
       "      <td>...</td>\n",
       "      <td>...</td>\n",
       "      <td>...</td>\n",
       "      <td>...</td>\n",
       "    </tr>\n",
       "    <tr>\n",
       "      <th>995</th>\n",
       "      <td>995</td>\n",
       "      <td>3</td>\n",
       "      <td>38.0</td>\n",
       "      <td>941851</td>\n",
       "      <td>1991-07-16</td>\n",
       "      <td>OH</td>\n",
       "      <td>NaN</td>\n",
       "      <td>1000</td>\n",
       "      <td>1310.80</td>\n",
       "      <td>0.0</td>\n",
       "      <td>431289</td>\n",
       "      <td>FEMALE</td>\n",
       "      <td>Masters</td>\n",
       "      <td>craft-repair</td>\n",
       "      <td>paintball</td>\n",
       "      <td>unmarried</td>\n",
       "      <td>0</td>\n",
       "      <td>0</td>\n",
       "      <td>2015-02-22</td>\n",
       "      <td>Single Vehicle Collision</td>\n",
       "      <td>Front Collision</td>\n",
       "      <td>Minor Damage</td>\n",
       "      <td>Fire</td>\n",
       "      <td>NC</td>\n",
       "      <td>Northbrook</td>\n",
       "      <td>6045 Andromedia St</td>\n",
       "      <td>20</td>\n",
       "      <td>1</td>\n",
       "      <td>YES</td>\n",
       "      <td>0</td>\n",
       "      <td>1</td>\n",
       "      <td>?</td>\n",
       "      <td>87200</td>\n",
       "      <td>17440</td>\n",
       "      <td>8720</td>\n",
       "      <td>61040</td>\n",
       "      <td>Honda</td>\n",
       "      <td>Accord</td>\n",
       "      <td>2006</td>\n",
       "      <td>N</td>\n",
       "      <td>NaN</td>\n",
       "    </tr>\n",
       "    <tr>\n",
       "      <th>996</th>\n",
       "      <td>996</td>\n",
       "      <td>285</td>\n",
       "      <td>41.0</td>\n",
       "      <td>186934</td>\n",
       "      <td>2014-01-05</td>\n",
       "      <td>IL</td>\n",
       "      <td>NaN</td>\n",
       "      <td>1000</td>\n",
       "      <td>1436.79</td>\n",
       "      <td>NaN</td>\n",
       "      <td>608177</td>\n",
       "      <td>FEMALE</td>\n",
       "      <td>PhD</td>\n",
       "      <td>prof-specialty</td>\n",
       "      <td>sleeping</td>\n",
       "      <td>wife</td>\n",
       "      <td>70900</td>\n",
       "      <td>0</td>\n",
       "      <td>2015-01-24</td>\n",
       "      <td>Single Vehicle Collision</td>\n",
       "      <td>Rear Collision</td>\n",
       "      <td>Major Damage</td>\n",
       "      <td>Fire</td>\n",
       "      <td>SC</td>\n",
       "      <td>Northbend</td>\n",
       "      <td>3092 Texas Drive</td>\n",
       "      <td>23</td>\n",
       "      <td>1</td>\n",
       "      <td>YES</td>\n",
       "      <td>2</td>\n",
       "      <td>3</td>\n",
       "      <td>?</td>\n",
       "      <td>108480</td>\n",
       "      <td>18080</td>\n",
       "      <td>18080</td>\n",
       "      <td>72320</td>\n",
       "      <td>Volkswagen</td>\n",
       "      <td>Passat</td>\n",
       "      <td>2015</td>\n",
       "      <td>N</td>\n",
       "      <td>NaN</td>\n",
       "    </tr>\n",
       "    <tr>\n",
       "      <th>997</th>\n",
       "      <td>997</td>\n",
       "      <td>130</td>\n",
       "      <td>NaN</td>\n",
       "      <td>918516</td>\n",
       "      <td>2003-02-17</td>\n",
       "      <td>OH</td>\n",
       "      <td>250/500</td>\n",
       "      <td>500</td>\n",
       "      <td>1383.49</td>\n",
       "      <td>3000000.0</td>\n",
       "      <td>442797</td>\n",
       "      <td>FEMALE</td>\n",
       "      <td>Masters</td>\n",
       "      <td>armed-forces</td>\n",
       "      <td>bungie-jumping</td>\n",
       "      <td>other-relative</td>\n",
       "      <td>35100</td>\n",
       "      <td>0</td>\n",
       "      <td>2015-01-23</td>\n",
       "      <td>Multi-vehicle Collision</td>\n",
       "      <td>Side Collision</td>\n",
       "      <td>Minor Damage</td>\n",
       "      <td>Police</td>\n",
       "      <td>NC</td>\n",
       "      <td>Arlington</td>\n",
       "      <td>7629 5th St</td>\n",
       "      <td>4</td>\n",
       "      <td>3</td>\n",
       "      <td>?</td>\n",
       "      <td>2</td>\n",
       "      <td>3</td>\n",
       "      <td>NaN</td>\n",
       "      <td>67500</td>\n",
       "      <td>7500</td>\n",
       "      <td>7500</td>\n",
       "      <td>52500</td>\n",
       "      <td>Suburu</td>\n",
       "      <td>Impreza</td>\n",
       "      <td>1996</td>\n",
       "      <td>N</td>\n",
       "      <td>NaN</td>\n",
       "    </tr>\n",
       "    <tr>\n",
       "      <th>998</th>\n",
       "      <td>998</td>\n",
       "      <td>458</td>\n",
       "      <td>62.0</td>\n",
       "      <td>533940</td>\n",
       "      <td>2011-11-18</td>\n",
       "      <td>IL</td>\n",
       "      <td>500/1000</td>\n",
       "      <td>2000</td>\n",
       "      <td>1356.92</td>\n",
       "      <td>NaN</td>\n",
       "      <td>441714</td>\n",
       "      <td>MALE</td>\n",
       "      <td>Associate</td>\n",
       "      <td>handlers-cleaners</td>\n",
       "      <td>base-jumping</td>\n",
       "      <td>wife</td>\n",
       "      <td>0</td>\n",
       "      <td>0</td>\n",
       "      <td>2015-02-26</td>\n",
       "      <td>Single Vehicle Collision</td>\n",
       "      <td>Rear Collision</td>\n",
       "      <td>Major Damage</td>\n",
       "      <td>Other</td>\n",
       "      <td>NY</td>\n",
       "      <td>Arlington</td>\n",
       "      <td>6128 Elm Lane</td>\n",
       "      <td>2</td>\n",
       "      <td>1</td>\n",
       "      <td>?</td>\n",
       "      <td>0</td>\n",
       "      <td>1</td>\n",
       "      <td>YES</td>\n",
       "      <td>46980</td>\n",
       "      <td>5220</td>\n",
       "      <td>5220</td>\n",
       "      <td>36540</td>\n",
       "      <td>Audi</td>\n",
       "      <td>A5</td>\n",
       "      <td>1998</td>\n",
       "      <td>N</td>\n",
       "      <td>NaN</td>\n",
       "    </tr>\n",
       "    <tr>\n",
       "      <th>999</th>\n",
       "      <td>999</td>\n",
       "      <td>456</td>\n",
       "      <td>60.0</td>\n",
       "      <td>556080</td>\n",
       "      <td>1996-11-11</td>\n",
       "      <td>OH</td>\n",
       "      <td>NaN</td>\n",
       "      <td>1000</td>\n",
       "      <td>766.19</td>\n",
       "      <td>0.0</td>\n",
       "      <td>612260</td>\n",
       "      <td>FEMALE</td>\n",
       "      <td>Associate</td>\n",
       "      <td>sales</td>\n",
       "      <td>kayaking</td>\n",
       "      <td>husband</td>\n",
       "      <td>0</td>\n",
       "      <td>0</td>\n",
       "      <td>2015-02-26</td>\n",
       "      <td>Parked Car</td>\n",
       "      <td>?</td>\n",
       "      <td>Minor Damage</td>\n",
       "      <td>Police</td>\n",
       "      <td>WV</td>\n",
       "      <td>Columbus</td>\n",
       "      <td>1416 Cherokee Ridge</td>\n",
       "      <td>6</td>\n",
       "      <td>1</td>\n",
       "      <td>?</td>\n",
       "      <td>0</td>\n",
       "      <td>3</td>\n",
       "      <td>?</td>\n",
       "      <td>5060</td>\n",
       "      <td>460</td>\n",
       "      <td>920</td>\n",
       "      <td>3680</td>\n",
       "      <td>Mercedes</td>\n",
       "      <td>E400</td>\n",
       "      <td>2007</td>\n",
       "      <td>N</td>\n",
       "      <td>NaN</td>\n",
       "    </tr>\n",
       "  </tbody>\n",
       "</table>\n",
       "<p>1000 rows × 41 columns</p>\n",
       "</div>"
      ],
      "text/plain": [
       "     Unnamed: 0  months_as_customer   age  policy_number policy_bind_date  \\\n",
       "0             0                 328  48.0         521585       2014-10-17   \n",
       "1             1                 228  42.0         342868       2006-06-27   \n",
       "2             2                 134  29.0         687698       2000-09-06   \n",
       "3             3                 256  41.0         227811       1990-05-25   \n",
       "4             4                 228  44.0         367455       2014-06-06   \n",
       "..          ...                 ...   ...            ...              ...   \n",
       "995         995                   3  38.0         941851       1991-07-16   \n",
       "996         996                 285  41.0         186934       2014-01-05   \n",
       "997         997                 130   NaN         918516       2003-02-17   \n",
       "998         998                 458  62.0         533940       2011-11-18   \n",
       "999         999                 456  60.0         556080       1996-11-11   \n",
       "\n",
       "    policy_state policy_csl  policy_deductable  policy_annual_premium  \\\n",
       "0             OH    250/500               1000                1406.91   \n",
       "1             IN    250/500               2000                1197.22   \n",
       "2             OH        NaN               2000                1413.14   \n",
       "3             IL        NaN               2000                1415.74   \n",
       "4             IL        NaN               1000                1583.91   \n",
       "..           ...        ...                ...                    ...   \n",
       "995           OH        NaN               1000                1310.80   \n",
       "996           IL        NaN               1000                1436.79   \n",
       "997           OH    250/500                500                1383.49   \n",
       "998           IL   500/1000               2000                1356.92   \n",
       "999           OH        NaN               1000                 766.19   \n",
       "\n",
       "     umbrella_limit  insured_zip insured_sex insured_education_level  \\\n",
       "0               0.0       466132        MALE                      MD   \n",
       "1         5000000.0       468176        MALE                      MD   \n",
       "2         5000000.0       430632      FEMALE                     PhD   \n",
       "3         6000000.0       608117      FEMALE                     PhD   \n",
       "4         6000000.0       610706        MALE               Associate   \n",
       "..              ...          ...         ...                     ...   \n",
       "995             0.0       431289      FEMALE                 Masters   \n",
       "996             NaN       608177      FEMALE                     PhD   \n",
       "997       3000000.0       442797      FEMALE                 Masters   \n",
       "998             NaN       441714        MALE               Associate   \n",
       "999             0.0       612260      FEMALE               Associate   \n",
       "\n",
       "    insured_occupation insured_hobbies insured_relationship  capital-gains  \\\n",
       "0         craft-repair        sleeping              husband          53300   \n",
       "1    machine-op-inspct         reading       other-relative              0   \n",
       "2                sales     board-games            own-child          35100   \n",
       "3         armed-forces     board-games            unmarried          48900   \n",
       "4                sales     board-games            unmarried          66000   \n",
       "..                 ...             ...                  ...            ...   \n",
       "995       craft-repair       paintball            unmarried              0   \n",
       "996     prof-specialty        sleeping                 wife          70900   \n",
       "997       armed-forces  bungie-jumping       other-relative          35100   \n",
       "998  handlers-cleaners    base-jumping                 wife              0   \n",
       "999              sales        kayaking              husband              0   \n",
       "\n",
       "     capital-loss incident_date             incident_type   collision_type  \\\n",
       "0               0    2015-01-25  Single Vehicle Collision   Side Collision   \n",
       "1               0    2015-01-21             Vehicle Theft                ?   \n",
       "2               0    2015-02-22   Multi-vehicle Collision   Rear Collision   \n",
       "3          -62400    2015-01-10  Single Vehicle Collision  Front Collision   \n",
       "4          -46000    2015-02-17             Vehicle Theft                ?   \n",
       "..            ...           ...                       ...              ...   \n",
       "995             0    2015-02-22  Single Vehicle Collision  Front Collision   \n",
       "996             0    2015-01-24  Single Vehicle Collision   Rear Collision   \n",
       "997             0    2015-01-23   Multi-vehicle Collision   Side Collision   \n",
       "998             0    2015-02-26  Single Vehicle Collision   Rear Collision   \n",
       "999             0    2015-02-26                Parked Car                ?   \n",
       "\n",
       "    incident_severity authorities_contacted incident_state incident_city  \\\n",
       "0        Major Damage                Police             SC      Columbus   \n",
       "1        Minor Damage                Police             VA     Riverwood   \n",
       "2        Minor Damage                Police             NY      Columbus   \n",
       "3        Major Damage                Police             OH     Arlington   \n",
       "4        Minor Damage                  None             NY     Arlington   \n",
       "..                ...                   ...            ...           ...   \n",
       "995      Minor Damage                  Fire             NC    Northbrook   \n",
       "996      Major Damage                  Fire             SC     Northbend   \n",
       "997      Minor Damage                Police             NC     Arlington   \n",
       "998      Major Damage                 Other             NY     Arlington   \n",
       "999      Minor Damage                Police             WV      Columbus   \n",
       "\n",
       "       incident_location  incident_hour_of_the_day  \\\n",
       "0         9935 4th Drive                         5   \n",
       "1           6608 MLK Hwy                         8   \n",
       "2      7121 Francis Lane                         7   \n",
       "3       6956 Maple Drive                         5   \n",
       "4           3041 3rd Ave                        20   \n",
       "..                   ...                       ...   \n",
       "995   6045 Andromedia St                        20   \n",
       "996     3092 Texas Drive                        23   \n",
       "997          7629 5th St                         4   \n",
       "998        6128 Elm Lane                         2   \n",
       "999  1416 Cherokee Ridge                         6   \n",
       "\n",
       "     number_of_vehicles_involved property_damage  bodily_injuries  witnesses  \\\n",
       "0                              1             YES                1          2   \n",
       "1                              1               ?                0          0   \n",
       "2                              3              NO                2          3   \n",
       "3                              1               ?                1          2   \n",
       "4                              1              NO                0          1   \n",
       "..                           ...             ...              ...        ...   \n",
       "995                            1             YES                0          1   \n",
       "996                            1             YES                2          3   \n",
       "997                            3               ?                2          3   \n",
       "998                            1               ?                0          1   \n",
       "999                            1               ?                0          3   \n",
       "\n",
       "    police_report_available  total_claim_amount  injury_claim  property_claim  \\\n",
       "0                       YES               71610          6510           13020   \n",
       "1                         ?                5070           780             780   \n",
       "2                       NaN               34650          7700            3850   \n",
       "3                        NO               63400          6340            6340   \n",
       "4                       NaN                6500          1300             650   \n",
       "..                      ...                 ...           ...             ...   \n",
       "995                       ?               87200         17440            8720   \n",
       "996                       ?              108480         18080           18080   \n",
       "997                     NaN               67500          7500            7500   \n",
       "998                     YES               46980          5220            5220   \n",
       "999                       ?                5060           460             920   \n",
       "\n",
       "     vehicle_claim   auto_make auto_model  auto_year fraud_reported  _c39  \n",
       "0            52080        Saab        92x       2004              Y   NaN  \n",
       "1             3510    Mercedes       E400       2007              Y   NaN  \n",
       "2            23100       Dodge        RAM       2007              N   NaN  \n",
       "3            50720   Chevrolet      Tahoe       2014              Y   NaN  \n",
       "4             4550      Accura        RSX       2009              N   NaN  \n",
       "..             ...         ...        ...        ...            ...   ...  \n",
       "995          61040       Honda     Accord       2006              N   NaN  \n",
       "996          72320  Volkswagen     Passat       2015              N   NaN  \n",
       "997          52500      Suburu    Impreza       1996              N   NaN  \n",
       "998          36540        Audi         A5       1998              N   NaN  \n",
       "999           3680    Mercedes       E400       2007              N   NaN  \n",
       "\n",
       "[1000 rows x 41 columns]"
      ]
     },
     "execution_count": 2,
     "metadata": {},
     "output_type": "execute_result"
    }
   ],
   "source": [
    "pd.set_option('display.max_columns', None)\n",
    "df = pd.read_csv(\"auto_insurance_csv.csv\")\n",
    "df"
   ]
  },
  {
   "cell_type": "markdown",
   "metadata": {},
   "source": [
    "## Null Değerlerin Tespiti ve Bu Değerlerin Doldurulması"
   ]
  },
  {
   "cell_type": "code",
   "execution_count": 3,
   "metadata": {},
   "outputs": [
    {
     "name": "stdout",
     "output_type": "stream",
     "text": [
      "<class 'pandas.core.frame.DataFrame'>\n",
      "RangeIndex: 1000 entries, 0 to 999\n",
      "Data columns (total 41 columns):\n",
      " #   Column                       Non-Null Count  Dtype  \n",
      "---  ------                       --------------  -----  \n",
      " 0   Unnamed: 0                   1000 non-null   int64  \n",
      " 1   months_as_customer           1000 non-null   int64  \n",
      " 2   age                          865 non-null    float64\n",
      " 3   policy_number                1000 non-null   int64  \n",
      " 4   policy_bind_date             1000 non-null   object \n",
      " 5   policy_state                 1000 non-null   object \n",
      " 6   policy_csl                   127 non-null    object \n",
      " 7   policy_deductable            1000 non-null   int64  \n",
      " 8   policy_annual_premium        1000 non-null   float64\n",
      " 9   umbrella_limit               802 non-null    float64\n",
      " 10  insured_zip                  1000 non-null   int64  \n",
      " 11  insured_sex                  1000 non-null   object \n",
      " 12  insured_education_level      1000 non-null   object \n",
      " 13  insured_occupation           1000 non-null   object \n",
      " 14  insured_hobbies              1000 non-null   object \n",
      " 15  insured_relationship         1000 non-null   object \n",
      " 16  capital-gains                1000 non-null   int64  \n",
      " 17  capital-loss                 1000 non-null   int64  \n",
      " 18  incident_date                1000 non-null   object \n",
      " 19  incident_type                1000 non-null   object \n",
      " 20  collision_type               1000 non-null   object \n",
      " 21  incident_severity            1000 non-null   object \n",
      " 22  authorities_contacted        1000 non-null   object \n",
      " 23  incident_state               1000 non-null   object \n",
      " 24  incident_city                1000 non-null   object \n",
      " 25  incident_location            1000 non-null   object \n",
      " 26  incident_hour_of_the_day     1000 non-null   int64  \n",
      " 27  number_of_vehicles_involved  1000 non-null   int64  \n",
      " 28  property_damage              1000 non-null   object \n",
      " 29  bodily_injuries              1000 non-null   int64  \n",
      " 30  witnesses                    1000 non-null   int64  \n",
      " 31  police_report_available      750 non-null    object \n",
      " 32  total_claim_amount           1000 non-null   int64  \n",
      " 33  injury_claim                 1000 non-null   int64  \n",
      " 34  property_claim               1000 non-null   int64  \n",
      " 35  vehicle_claim                1000 non-null   int64  \n",
      " 36  auto_make                    1000 non-null   object \n",
      " 37  auto_model                   1000 non-null   object \n",
      " 38  auto_year                    1000 non-null   int64  \n",
      " 39  fraud_reported               1000 non-null   object \n",
      " 40  _c39                         0 non-null      float64\n",
      "dtypes: float64(4), int64(16), object(21)\n",
      "memory usage: 320.4+ KB\n"
     ]
    }
   ],
   "source": [
    "df.info()"
   ]
  },
  {
   "cell_type": "markdown",
   "metadata": {},
   "source": [
    "Yukarıda görüldüğü üzere kolonlarda null değerler bulunmaktadır. Bu değerler paylaşılan Auto Insurence Fraud notebook'undaki modellerle karşılaştırılma yapılması adına aynı değerlerle doldurulacaktır."
   ]
  },
  {
   "cell_type": "code",
   "execution_count": 4,
   "metadata": {},
   "outputs": [],
   "source": [
    "#umbrella_limit kolonundaki null değerler 9999 sayısıyla doldurulmaktadır ve \n",
    "#sayısal değerler other isimli bir değişkende toplanmaktadır\n",
    "df['umbrella_limit'] = df.umbrella_limit.fillna(\"9999\")\n",
    "df['umbrella_limit'] = df.umbrella_limit.astype(str)\n",
    "umbrealla = df['umbrella_limit'].unique()\n",
    "for umb in umbrealla:\n",
    "    if (umb != '0.0') & (umb != '9999'):\n",
    "        df['umbrella_limit'] = df['umbrella_limit'].str.replace(umb, 'other')\n",
    "\n",
    "#police_report_available kolonundaki null değerler MISSING olarak değiştirilmektedir.\n",
    "df['police_report_available'] = df.police_report_available.fillna(\"MISSING\")\n",
    "\n",
    "#policy_csl kolonundaki null değerler MISSING olarak değiştirilmektedir.\n",
    "df['policy_csl'] = df.policy_csl.fillna(\"MISSING\")\n",
    "\n",
    "#policy_bind_date ve incident_date kolonundaki değerler tarih değerlerine dönüştürülür ve \n",
    "#birbirlerinden çıkarılarak claim_day_of_policy adında bir kolon oluşturulur.\n",
    "df['policy_bind_date'] = pd.to_datetime(df['policy_bind_date'])\n",
    "df['incident_date'] = pd.to_datetime(df['incident_date'])\n",
    "df['claim_day_of_policy'] = (df.incident_date -  df.policy_bind_date).dt.days\n",
    "\n",
    "#location_check adlı bir kolon oluşturulur. Bu kolon poliçenin hazırlandığı yer ve kazanın yaşandığı yerin birbiriyle \n",
    "#aynı olup olmadığını kontrol eden bool bir kolon oluşturur.\n",
    "df['location_check'] = np.nan\n",
    "df['location_check'] = np.where(df['policy_state'] == df['incident_state'], True, False)\n",
    "\n",
    "#Buradan itibaren gruplamalar yapılmıştır.\n",
    "\n",
    "#age kolonunun null değerleri 9999 değeriyle doldurulur ve age_group adında yeni bir kolon oluşturularak\n",
    "#yaş değerleri 5'er yıllık gruplara bölünmüştür.\n",
    "df['age'] = df.age.fillna(9999)\n",
    "bin_labels = ['15-20', '21-25', '26-30', '31-35', '36-40', '41-45', '46-50', '51-55', '56-60', '61-65','9999']\n",
    "bins = [15, 20, 25, 30, 35, 40, 45, 50, 55, 60, 65, 9999]\n",
    "df['age_group'] = pd.cut(df['age'], bins = bins, labels = bin_labels, include_lowest = True)\n",
    "\n",
    "#months_as_customer kolonu, months_as_customer_groups adında kişinin kaç aydır müşteri olduğunun\n",
    "#gruplandığı bir kolona dönüştürülmüştür.\n",
    "bins = [0, 50, 100, 150, 200, 250, 300, 350, 400, 450, 500]\n",
    "bin_labels = ['0-50','51-100','101-150','151-200','201-250','251-300','301-350','351-400','401-450','451-500']\n",
    "df['months_as_customer_groups'] = pd.cut(df['months_as_customer'], bins = 10, labels = bin_labels, include_lowest= True)\n",
    "\n",
    "#policy_annual_premium kolonu, policy_annual_premium_groups adında poliçenin kalitesinin gruplandığı bir kolona dönüşmüştür\n",
    "bins = list(np.linspace(0,2500, 6, dtype = int))\n",
    "bin_labels = ['very low', 'low', 'medium', 'high', 'very high']\n",
    "df['policy_annual_premium_groups'] = pd.cut(df['policy_annual_premium'], bins = bins, labels=bin_labels)\n",
    "\n",
    "bins = list(np.linspace(0,2000, 5, dtype = int))\n",
    "bin_labels = ['0-500', '501-1000', '1001-1500', '1501-2000']\n",
    "df['policy_deductable_group'] = pd.cut(df['policy_deductable'], bins = bins, labels = bin_labels)\n",
    "\n",
    "#fraud_reported kolonuna elle bir label encoding işlemi uygulanmıştır.\n",
    "df['fraud_reported'] = df['fraud_reported'].str.replace('Y', '1')\n",
    "df['fraud_reported'] = df['fraud_reported'].str.replace('N', '0')\n",
    "df['fraud_reported'] = df['fraud_reported'].astype(int)"
   ]
  },
  {
   "cell_type": "markdown",
   "metadata": {},
   "source": [
    "## Visualization"
   ]
  },
  {
   "cell_type": "markdown",
   "metadata": {},
   "source": [
    "Burada değerlerini gruplayarak yeniden oluşturduğumuz kolonların ***fraud_reported*** kolonuyla ilişkisi incelenmektedir."
   ]
  },
  {
   "cell_type": "code",
   "execution_count": 5,
   "metadata": {},
   "outputs": [
    {
     "data": {
      "text/plain": [
       "<AxesSubplot:xlabel='fraud_reported', ylabel='count'>"
      ]
     },
     "execution_count": 5,
     "metadata": {},
     "output_type": "execute_result"
    },
    {
     "data": {
      "image/png": "[encoded data removed]",
      "text/plain": [
       "<Figure size 864x360 with 1 Axes>"
      ]
     },
     "metadata": {
      "needs_background": "light"
     },
     "output_type": "display_data"
    }
   ],
   "source": [
    "plt.figure(figsize=(12,5))\n",
    "sns.countplot(x=df['fraud_reported'],hue='age_group',data=df)"
   ]
  },
  {
   "cell_type": "code",
   "execution_count": 6,
   "metadata": {},
   "outputs": [
    {
     "data": {
      "text/plain": [
       "<AxesSubplot:xlabel='fraud_reported', ylabel='count'>"
      ]
     },
     "execution_count": 6,
     "metadata": {},
     "output_type": "execute_result"
    },
    {
     "data": {
      "image/png": "[encoded data removed]",
      "text/plain": [
       "<Figure size 864x360 with 1 Axes>"
      ]
     },
     "metadata": {
      "needs_background": "light"
     },
     "output_type": "display_data"
    }
   ],
   "source": [
    "plt.figure(figsize=(12,5))\n",
    "sns.countplot(x=df['fraud_reported'],hue='policy_annual_premium_groups',data=df)"
   ]
  },
  {
   "cell_type": "code",
   "execution_count": 7,
   "metadata": {},
   "outputs": [
    {
     "data": {
      "text/plain": [
       "<AxesSubplot:xlabel='fraud_reported', ylabel='count'>"
      ]
     },
     "execution_count": 7,
     "metadata": {},
     "output_type": "execute_result"
    },
    {
     "data": {
      "image/png": "[encoded data removed]",
      "text/plain": [
       "<Figure size 864x360 with 1 Axes>"
      ]
     },
     "metadata": {
      "needs_background": "light"
     },
     "output_type": "display_data"
    }
   ],
   "source": [
    "plt.figure(figsize=(12,5))\n",
    "sns.countplot(x=df['fraud_reported'],hue='months_as_customer_groups',data=df)"
   ]
  },
  {
   "cell_type": "code",
   "execution_count": 8,
   "metadata": {},
   "outputs": [
    {
     "data": {
      "text/plain": [
       "<AxesSubplot:xlabel='fraud_reported', ylabel='count'>"
      ]
     },
     "execution_count": 8,
     "metadata": {},
     "output_type": "execute_result"
    },
    {
     "data": {
      "image/png": "[encoded data removed]",
      "text/plain": [
       "<Figure size 864x360 with 1 Axes>"
      ]
     },
     "metadata": {
      "needs_background": "light"
     },
     "output_type": "display_data"
    }
   ],
   "source": [
    "plt.figure(figsize=(12,5))\n",
    "sns.countplot(x=df['fraud_reported'],hue='policy_deductable_group',data=df)"
   ]
  },
  {
   "cell_type": "markdown",
   "metadata": {},
   "source": [
    "- Yaş gruplarına bakıldığında gençlerin fraud sayısının yüksek olmasına rağmen 46 yaş ve üzeri kişilerin beklenenden daha çok dolandırıcılığa karıştığı görülmektedir.\n",
    "- Sigorta paket bilgisine bakıldığında orta seviye paket alanların daha çok dolandırıcılık yaptığı görülmektedir. Aynı grafikteki bilgilerden çoğunluğun orta seviye paketi daha çok tercih ettiği de ortaya çıkmaktadır.\n",
    "- Müşteri olarak geçirilen ay süresinde 8 ve 25 yıl boyunca müşteri olanlarda dolandırıcılık oranı daha fazladır. Bunun sebebi de yine bu süre aralığında müşteri olan insanların sayısının çokluğudur.\n",
    "- Insurance deductible, sigorta yaptırmadan önce alınan ücret anlamına gelmektedir. Bu ücret ne kadar yüksek olursa s,gorta şirketinin bir kaza sonrasında ödediği pay o kadar fazla olur. Bu grafikte bu ücreti alt sınırdan ödeyen grup daha çok dolandırıcılığa karışmıştır."
   ]
  },
  {
   "cell_type": "markdown",
   "metadata": {},
   "source": [
    "#### ----------------------------------------------------------------------------------------------------------------------------------------------------------------------------------------"
   ]
  },
  {
   "cell_type": "markdown",
   "metadata": {},
   "source": [
    "Veriler doldurulduktan sonra yazdırılan heatmap'te multicollinearity problemi görülmektedir."
   ]
  },
  {
   "cell_type": "code",
   "execution_count": 9,
   "metadata": {},
   "outputs": [
    {
     "data": {
      "image/png": "[encoded data removed]",
      "text/plain": [
       "<Figure size 1296x864 with 2 Axes>"
      ]
     },
     "metadata": {
      "needs_background": "light"
     },
     "output_type": "display_data"
    }
   ],
   "source": [
    "plt.figure(figsize = (18, 12))\n",
    "\n",
    "corr = df.corr()\n",
    "\n",
    "sns.heatmap(data = corr, annot = True, fmt = '.2g', linewidth = 1)\n",
    "plt.show()"
   ]
  },
  {
   "cell_type": "markdown",
   "metadata": {},
   "source": [
    "## Multicollinearity"
   ]
  },
  {
   "cell_type": "markdown",
   "metadata": {},
   "source": [
    "Multicollinearity kısaca bir değişkeni tahmin eden en az iki değişken arasında çok yüksek ilişkinin olması durumudur. Aralarındaki ilişki çok yüksek olan iki değişken kısmen birbirinin çok benzeri olacağından ikisinden birisinin atılması uygun olacaktır."
   ]
  },
  {
   "cell_type": "code",
   "execution_count": 10,
   "metadata": {},
   "outputs": [
    {
     "data": {
      "text/html": [
       "<img src=\"images/multicollinearity.png\" width=\"600\" height=\"600\"/>"
      ],
      "text/plain": [
       "<IPython.core.display.Image object>"
      ]
     },
     "execution_count": 10,
     "metadata": {},
     "output_type": "execute_result"
    }
   ],
   "source": [
    "Image(url= \"images/multicollinearity.png\", width=600, height=600)"
   ]
  },
  {
   "cell_type": "markdown",
   "metadata": {},
   "source": [
    "Bunun sayısal olarak tespiti için Variance Inflation Factor(varyans artış faktörü) hesaplanması yapılmalıdır."
   ]
  },
  {
   "cell_type": "markdown",
   "metadata": {},
   "source": [
    "## Variance Inflation Factor(VIF)"
   ]
  },
  {
   "cell_type": "markdown",
   "metadata": {},
   "source": [
    "VIF, üzerinde tahmin yapılacak bir değişkenin varyansının ***collinearity*** nedeniyle ne kadar arttığının ölçüsünü veren bir endekstir. \n",
    "- Not: Collinearity, iki değişken arasındaki lineer ilişkiyi tanımlar. Multicollinearity'nin aksine çoklu bağlantıyı göstermez.\n",
    "\n",
    "VIF hesaplandıktan sonra çıkan değerler şu şekilde incelenir:\n",
    "- VIF=1 ise multicollinearity yok.\n",
    "\n",
    "- VIF=<5 ise düşük multicollinearity veya kısmi korelasyon\n",
    "\n",
    "- VIF=>5 ise yüksek multicollinearity veya yüksek korelasyon"
   ]
  },
  {
   "cell_type": "code",
   "execution_count": 11,
   "metadata": {},
   "outputs": [
    {
     "data": {
      "text/html": [
       "<div>\n",
       "<style scoped>\n",
       "    .dataframe tbody tr th:only-of-type {\n",
       "        vertical-align: middle;\n",
       "    }\n",
       "\n",
       "    .dataframe tbody tr th {\n",
       "        vertical-align: top;\n",
       "    }\n",
       "\n",
       "    .dataframe thead th {\n",
       "        text-align: right;\n",
       "    }\n",
       "</style>\n",
       "<table border=\"1\" class=\"dataframe\">\n",
       "  <thead>\n",
       "    <tr style=\"text-align: right;\">\n",
       "      <th></th>\n",
       "      <th>VIF</th>\n",
       "      <th>Column</th>\n",
       "    </tr>\n",
       "  </thead>\n",
       "  <tbody>\n",
       "    <tr>\n",
       "      <th>11</th>\n",
       "      <td>inf</td>\n",
       "      <td>total_claim_amount</td>\n",
       "    </tr>\n",
       "    <tr>\n",
       "      <th>14</th>\n",
       "      <td>inf</td>\n",
       "      <td>vehicle_claim</td>\n",
       "    </tr>\n",
       "    <tr>\n",
       "      <th>13</th>\n",
       "      <td>inf</td>\n",
       "      <td>property_claim</td>\n",
       "    </tr>\n",
       "    <tr>\n",
       "      <th>12</th>\n",
       "      <td>inf</td>\n",
       "      <td>injury_claim</td>\n",
       "    </tr>\n",
       "    <tr>\n",
       "      <th>15</th>\n",
       "      <td>76.553317</td>\n",
       "      <td>auto_year</td>\n",
       "    </tr>\n",
       "    <tr>\n",
       "      <th>4</th>\n",
       "      <td>50.262967</td>\n",
       "      <td>insured_zip</td>\n",
       "    </tr>\n",
       "    <tr>\n",
       "      <th>2</th>\n",
       "      <td>5.576955</td>\n",
       "      <td>policy_number</td>\n",
       "    </tr>\n",
       "    <tr>\n",
       "      <th>8</th>\n",
       "      <td>4.666654</td>\n",
       "      <td>number_of_vehicles_involved</td>\n",
       "    </tr>\n",
       "    <tr>\n",
       "      <th>3</th>\n",
       "      <td>4.598610</td>\n",
       "      <td>policy_deductable</td>\n",
       "    </tr>\n",
       "    <tr>\n",
       "      <th>1</th>\n",
       "      <td>4.226370</td>\n",
       "      <td>months_as_customer</td>\n",
       "    </tr>\n",
       "    <tr>\n",
       "      <th>16</th>\n",
       "      <td>4.181210</td>\n",
       "      <td>claim_day_of_policy</td>\n",
       "    </tr>\n",
       "    <tr>\n",
       "      <th>0</th>\n",
       "      <td>4.064860</td>\n",
       "      <td>Unnamed: 0</td>\n",
       "    </tr>\n",
       "    <tr>\n",
       "      <th>7</th>\n",
       "      <td>4.063295</td>\n",
       "      <td>incident_hour_of_the_day</td>\n",
       "    </tr>\n",
       "    <tr>\n",
       "      <th>10</th>\n",
       "      <td>2.876945</td>\n",
       "      <td>witnesses</td>\n",
       "    </tr>\n",
       "    <tr>\n",
       "      <th>9</th>\n",
       "      <td>2.491774</td>\n",
       "      <td>bodily_injuries</td>\n",
       "    </tr>\n",
       "    <tr>\n",
       "      <th>6</th>\n",
       "      <td>1.932314</td>\n",
       "      <td>capital-loss</td>\n",
       "    </tr>\n",
       "    <tr>\n",
       "      <th>5</th>\n",
       "      <td>1.840288</td>\n",
       "      <td>capital-gains</td>\n",
       "    </tr>\n",
       "  </tbody>\n",
       "</table>\n",
       "</div>"
      ],
      "text/plain": [
       "          VIF                       Column\n",
       "11        inf           total_claim_amount\n",
       "14        inf                vehicle_claim\n",
       "13        inf               property_claim\n",
       "12        inf                 injury_claim\n",
       "15  76.553317                    auto_year\n",
       "4   50.262967                  insured_zip\n",
       "2    5.576955                policy_number\n",
       "8    4.666654  number_of_vehicles_involved\n",
       "3    4.598610            policy_deductable\n",
       "1    4.226370           months_as_customer\n",
       "16   4.181210          claim_day_of_policy\n",
       "0    4.064860                   Unnamed: 0\n",
       "7    4.063295     incident_hour_of_the_day\n",
       "10   2.876945                    witnesses\n",
       "9    2.491774              bodily_injuries\n",
       "6    1.932314                 capital-loss\n",
       "5    1.840288                capital-gains"
      ]
     },
     "execution_count": 11,
     "metadata": {},
     "output_type": "execute_result"
    }
   ],
   "source": [
    "from statsmodels.stats.outliers_influence import variance_inflation_factor\n",
    "\n",
    "#nümerik kolonların seçilmesi\n",
    "num_cols0 = df[list(df.select_dtypes(include=['int64']))]\n",
    "\n",
    "#nümerik kolonların VIF değerlerini göstermek için farklı bir dataFrame oluşturulması ve değerlerin yazdırılması\n",
    "vif_info = pd.DataFrame()\n",
    "vif_info['VIF'] = [variance_inflation_factor(num_cols0.values, i) for i in range(num_cols0.shape[1])]\n",
    "vif_info['Column'] = num_cols0.columns\n",
    "vif_info.sort_values('VIF', ascending=False)"
   ]
  },
  {
   "cell_type": "markdown",
   "metadata": {},
   "source": [
    "Bu sonuçlara göre 4 kolonda ***infinite(sonsuz)*** değerler vardır. Buna **Perfect Correlation** denir. Sebebi bu 4 kolonun birbiriyle fazlaca ilişkili olmasıdır. Bu sorunu, kolonları atarak çözebiliriz. Öncelikle vehicle_claim, property_claim ve property_claim kolonlarının total_claim_amount kolonuna eşit oduğunu gösterelim"
   ]
  },
  {
   "cell_type": "code",
   "execution_count": 12,
   "metadata": {},
   "outputs": [
    {
     "data": {
      "text/plain": [
       "52761940"
      ]
     },
     "execution_count": 12,
     "metadata": {},
     "output_type": "execute_result"
    }
   ],
   "source": [
    "df[\"Total\"] = df[\"vehicle_claim\"] + df[\"property_claim\"] + df[\"injury_claim\"]\n",
    "df.Total.sum()"
   ]
  },
  {
   "cell_type": "code",
   "execution_count": 13,
   "metadata": {},
   "outputs": [
    {
     "data": {
      "text/plain": [
       "52761940"
      ]
     },
     "execution_count": 13,
     "metadata": {},
     "output_type": "execute_result"
    }
   ],
   "source": [
    "df.total_claim_amount.sum()"
   ]
  },
  {
   "cell_type": "markdown",
   "metadata": {},
   "source": [
    "Burada görüldüğü üzere bu 3 kolonun atılarak sadece total_claim_amount kolonunun bırakılması infinite problemini çözecektir. Gereksiz görülen diğer kolonlar da atılacaktır."
   ]
  },
  {
   "cell_type": "code",
   "execution_count": 14,
   "metadata": {},
   "outputs": [],
   "source": [
    "#multicollinearity düzenlemesi için atıldı\n",
    "df = df.drop(['vehicle_claim', 'property_claim', 'injury_claim', 'Total', 'auto_year', 'insured_zip'], axis = 1)\n",
    "\n",
    "#claim_day_of_policy kolonu oluşturulduğu için atıldı\n",
    "df = df.drop(['policy_bind_date','incident_date'],axis=1)\n",
    "\n",
    "#sadece null değerler var\n",
    "df = df.drop(['_c39','Unnamed: 0'], axis = 1)\n",
    "\n",
    "#bu kolonlarda gruplama yapıldığı için atıldılar.\n",
    "df = df.drop(['age', 'months_as_customer', 'policy_deductable', 'policy_annual_premium'], axis = 1)\n",
    "\n",
    "#policy_number kolonu modeli eğitirken önemsiz olduğu için atıldı\n",
    "df = df.drop(['policy_number'], axis = 1)"
   ]
  },
  {
   "cell_type": "markdown",
   "metadata": {},
   "source": [
    "- VIF değerlerini tekrar yazdırdığımızda total_claim_amount kolonundaki infinite sorununun düzelmiş olduğunu ve yüksek VIF değerli kolonların atıldığını görürüz.\n",
    "- Null değerlerin temizlendiğini de tekrar kontrol etmekteyiz."
   ]
  },
  {
   "cell_type": "code",
   "execution_count": 15,
   "metadata": {},
   "outputs": [
    {
     "data": {
      "text/html": [
       "<div>\n",
       "<style scoped>\n",
       "    .dataframe tbody tr th:only-of-type {\n",
       "        vertical-align: middle;\n",
       "    }\n",
       "\n",
       "    .dataframe tbody tr th {\n",
       "        vertical-align: top;\n",
       "    }\n",
       "\n",
       "    .dataframe thead th {\n",
       "        text-align: right;\n",
       "    }\n",
       "</style>\n",
       "<table border=\"1\" class=\"dataframe\">\n",
       "  <thead>\n",
       "    <tr style=\"text-align: right;\">\n",
       "      <th></th>\n",
       "      <th>VIF</th>\n",
       "      <th>Column</th>\n",
       "    </tr>\n",
       "  </thead>\n",
       "  <tbody>\n",
       "    <tr>\n",
       "      <th>6</th>\n",
       "      <td>5.145819</td>\n",
       "      <td>total_claim_amount</td>\n",
       "    </tr>\n",
       "    <tr>\n",
       "      <th>3</th>\n",
       "      <td>4.221476</td>\n",
       "      <td>number_of_vehicles_involved</td>\n",
       "    </tr>\n",
       "    <tr>\n",
       "      <th>2</th>\n",
       "      <td>3.619873</td>\n",
       "      <td>incident_hour_of_the_day</td>\n",
       "    </tr>\n",
       "    <tr>\n",
       "      <th>7</th>\n",
       "      <td>3.135658</td>\n",
       "      <td>claim_day_of_policy</td>\n",
       "    </tr>\n",
       "    <tr>\n",
       "      <th>5</th>\n",
       "      <td>2.445818</td>\n",
       "      <td>witnesses</td>\n",
       "    </tr>\n",
       "    <tr>\n",
       "      <th>4</th>\n",
       "      <td>2.278841</td>\n",
       "      <td>bodily_injuries</td>\n",
       "    </tr>\n",
       "    <tr>\n",
       "      <th>1</th>\n",
       "      <td>1.851825</td>\n",
       "      <td>capital-loss</td>\n",
       "    </tr>\n",
       "    <tr>\n",
       "      <th>0</th>\n",
       "      <td>1.758249</td>\n",
       "      <td>capital-gains</td>\n",
       "    </tr>\n",
       "  </tbody>\n",
       "</table>\n",
       "</div>"
      ],
      "text/plain": [
       "        VIF                       Column\n",
       "6  5.145819           total_claim_amount\n",
       "3  4.221476  number_of_vehicles_involved\n",
       "2  3.619873     incident_hour_of_the_day\n",
       "7  3.135658          claim_day_of_policy\n",
       "5  2.445818                    witnesses\n",
       "4  2.278841              bodily_injuries\n",
       "1  1.851825                 capital-loss\n",
       "0  1.758249                capital-gains"
      ]
     },
     "execution_count": 15,
     "metadata": {},
     "output_type": "execute_result"
    }
   ],
   "source": [
    "#nümerik kolonların VIF değerlerini göstermek için farklı bir dataFrame oluşturulması ve değerlerin yazdırılması\n",
    "num_cols0 = df[list(df.select_dtypes(include=['int64']))]\n",
    "vif_info = pd.DataFrame()\n",
    "vif_info['VIF'] = [variance_inflation_factor(num_cols0.values, i) for i in range(num_cols0.shape[1])]\n",
    "vif_info['Column'] = num_cols0.columns\n",
    "vif_info.sort_values('VIF', ascending=False)"
   ]
  },
  {
   "cell_type": "code",
   "execution_count": 16,
   "metadata": {},
   "outputs": [
    {
     "data": {
      "text/plain": [
       "policy_state                    0\n",
       "policy_csl                      0\n",
       "umbrella_limit                  0\n",
       "insured_sex                     0\n",
       "insured_education_level         0\n",
       "insured_occupation              0\n",
       "insured_hobbies                 0\n",
       "insured_relationship            0\n",
       "capital-gains                   0\n",
       "capital-loss                    0\n",
       "incident_type                   0\n",
       "collision_type                  0\n",
       "incident_severity               0\n",
       "authorities_contacted           0\n",
       "incident_state                  0\n",
       "incident_city                   0\n",
       "incident_location               0\n",
       "incident_hour_of_the_day        0\n",
       "number_of_vehicles_involved     0\n",
       "property_damage                 0\n",
       "bodily_injuries                 0\n",
       "witnesses                       0\n",
       "police_report_available         0\n",
       "total_claim_amount              0\n",
       "auto_make                       0\n",
       "auto_model                      0\n",
       "fraud_reported                  0\n",
       "claim_day_of_policy             0\n",
       "location_check                  0\n",
       "age_group                       0\n",
       "months_as_customer_groups       0\n",
       "policy_annual_premium_groups    0\n",
       "policy_deductable_group         0\n",
       "dtype: int64"
      ]
     },
     "execution_count": 16,
     "metadata": {},
     "output_type": "execute_result"
    }
   ],
   "source": [
    "df.isnull().sum()"
   ]
  },
  {
   "cell_type": "markdown",
   "metadata": {},
   "source": [
    "# Soru 1"
   ]
  },
  {
   "cell_type": "markdown",
   "metadata": {},
   "source": [
    "**One hot encoding modelin görmediği veriye nasıl uygulanır?**"
   ]
  },
  {
   "cell_type": "markdown",
   "metadata": {},
   "source": [
    "Verileri encoding'e hazırlamak için önce ***object*** veri tipindeki verileri ***category*** haline çevirmek gerekir. Bunun birkaç sebebi var:\n",
    "- Category veri tipi bellek optimizasyonuna çok daha uygun. Bu da modeli eğitirken zaman kazandırmaktadır.\n",
    "- Bir değişkenin sözcük sırası mantıksal sıra ile aynı değildir. Kategoriye dönüştürerek ve kategoriler üzerinde bir sıra belirleyerek, sözlük sırası yerine mantıksal sırayı kullanacaktır."
   ]
  },
  {
   "cell_type": "code",
   "execution_count": 17,
   "metadata": {},
   "outputs": [],
   "source": [
    "#Seçilen kolonların category veri tipine dönüştürülmesi\n",
    "for col in [ 'policy_state','umbrella_limit', 'policy_csl', 'insured_sex', 'insured_education_level', 'insured_occupation', 'insured_hobbies', 'insured_relationship',\n",
    "            'incident_type', 'collision_type', 'incident_severity', 'authorities_contacted', 'incident_state', 'incident_city', 'incident_location',\n",
    "             'property_damage',  'police_report_available', 'auto_make', 'auto_model', 'fraud_reported']:\n",
    "    df[col] = df[col].astype('category')"
   ]
  },
  {
   "cell_type": "code",
   "execution_count": 18,
   "metadata": {},
   "outputs": [
    {
     "name": "stdout",
     "output_type": "stream",
     "text": [
      "<class 'pandas.core.frame.DataFrame'>\n",
      "RangeIndex: 1000 entries, 0 to 999\n",
      "Data columns (total 33 columns):\n",
      " #   Column                        Non-Null Count  Dtype   \n",
      "---  ------                        --------------  -----   \n",
      " 0   policy_state                  1000 non-null   category\n",
      " 1   policy_csl                    1000 non-null   category\n",
      " 2   umbrella_limit                1000 non-null   category\n",
      " 3   insured_sex                   1000 non-null   category\n",
      " 4   insured_education_level       1000 non-null   category\n",
      " 5   insured_occupation            1000 non-null   category\n",
      " 6   insured_hobbies               1000 non-null   category\n",
      " 7   insured_relationship          1000 non-null   category\n",
      " 8   capital-gains                 1000 non-null   int64   \n",
      " 9   capital-loss                  1000 non-null   int64   \n",
      " 10  incident_type                 1000 non-null   category\n",
      " 11  collision_type                1000 non-null   category\n",
      " 12  incident_severity             1000 non-null   category\n",
      " 13  authorities_contacted         1000 non-null   category\n",
      " 14  incident_state                1000 non-null   category\n",
      " 15  incident_city                 1000 non-null   category\n",
      " 16  incident_location             1000 non-null   category\n",
      " 17  incident_hour_of_the_day      1000 non-null   int64   \n",
      " 18  number_of_vehicles_involved   1000 non-null   int64   \n",
      " 19  property_damage               1000 non-null   category\n",
      " 20  bodily_injuries               1000 non-null   int64   \n",
      " 21  witnesses                     1000 non-null   int64   \n",
      " 22  police_report_available       1000 non-null   category\n",
      " 23  total_claim_amount            1000 non-null   int64   \n",
      " 24  auto_make                     1000 non-null   category\n",
      " 25  auto_model                    1000 non-null   category\n",
      " 26  fraud_reported                1000 non-null   category\n",
      " 27  claim_day_of_policy           1000 non-null   int64   \n",
      " 28  location_check                1000 non-null   bool    \n",
      " 29  age_group                     1000 non-null   category\n",
      " 30  months_as_customer_groups     1000 non-null   category\n",
      " 31  policy_annual_premium_groups  1000 non-null   category\n",
      " 32  policy_deductable_group       1000 non-null   category\n",
      "dtypes: bool(1), category(24), int64(8)\n",
      "memory usage: 143.7 KB\n"
     ]
    }
   ],
   "source": [
    "#Kolon veri tipleri dönüştürüldü\n",
    "df.info()"
   ]
  },
  {
   "cell_type": "markdown",
   "metadata": {},
   "source": [
    "Kategorik veriler üzerinde one hot encoding uygulandığında train ve test veri setlerindeki verilerde sayısal anlamda bir düzensizlik ortaya çıkmaktadır. Bunun yanında tekrar multicollinearity'e de sebep olabilir. Bu durumları aşmak için ***Pipeline*** kullanılacaktır."
   ]
  },
  {
   "cell_type": "markdown",
   "metadata": {},
   "source": [
    "## Pipeline"
   ]
  },
  {
   "cell_type": "markdown",
   "metadata": {},
   "source": [
    "- Pipeline, aslında bir veri bilimi kavramı değil, çok temel bir bilgisayar mimarisi ve sistem programlama kavramıdır. Birden fazla işin paralel olarak aynı anda yürütülmesine olanak sağlar. \n",
    "- Burada iş olarak tanımladığımız kavram sistem programlama terimiyle ***proses(task)*** olarak adlandırılır ve aslında CPU'nun mümkün olduğu kadar çok kullanılabilmesi hedeflenir.\n",
    "- Proseslerin özelliklerine bağlı olarak kullanılan birbirinden farklı CPU paylaşım yöntemlerine iş sıralama algoritmaları denir.\n",
    "- ***Aşağıdaki resimde t zamanda 5 farklı prosesi paralel olarak işleyen bir pipeline yapısı görülmektedir***"
   ]
  },
  {
   "cell_type": "code",
   "execution_count": 19,
   "metadata": {},
   "outputs": [
    {
     "data": {
      "text/html": [
       "<img src=\"images/pipeline.jpg\" width=\"600\" height=\"600\"/>"
      ],
      "text/plain": [
       "<IPython.core.display.Image object>"
      ]
     },
     "execution_count": 19,
     "metadata": {},
     "output_type": "execute_result"
    }
   ],
   "source": [
    "Image(url= \"images/pipeline.jpg\", width=600, height=600)"
   ]
  },
  {
   "cell_type": "markdown",
   "metadata": {},
   "source": [
    "- Scikit Learn kütüphanesi de bu yapıyı örnek alarak bir Pipeline yapısı oluşturmuştur. İçerisine ***column_transformer*** adında bir nesne verilerek yapılması istenen işlemlerin(StandardScaler, OneHotEncoder, LabelEncoder) birbirine paralel olarak ilerleyerek çalışmasını sağlar. Aynı zamanda oluşabilecek hataların da önüne geçmiş olur.\n",
    "- **Pipeline yapısı 2. sorunun cevaplanmasıyla birlikte gösterilecektir.**"
   ]
  },
  {
   "cell_type": "markdown",
   "metadata": {},
   "source": [
    "# Soru 2"
   ]
  },
  {
   "cell_type": "markdown",
   "metadata": {},
   "source": [
    "**Label Encoding'de ilgili kolon için ölçeklendirme nasıl yapılır? (Verinin doğru etkisiyle sayısal olarak dönüştürülmesi)**"
   ]
  },
  {
   "cell_type": "markdown",
   "metadata": {},
   "source": [
    "- Label Encoding, model eğitme işlemi numerik veriler üzerinden gerçekleştiği için kategorik verileri 0'dan ***n*** değerine kadar numaralandıran bir encoding işlemidir. \n",
    "- Bu encoding türünün en büyük problemi her kategorik verinin bir sıralaması veya ağırlığının olmamasıdır.\n",
    "- Bunun için ordinal veriler kullanılması gerekir. Elimizdeki ***policy_annual_premium_groups*** kolonunu bu işlem için kullanacağız.\n",
    "- Ayrıca encoding yaparken bunu kolonda bulunan değerlerin alfabetik sıralamasına göre yapar. Bizim isteğimizse mantıksal bir düzende yeniden numaralandırma yapabilmektir.\n",
    "- Bunun için ***Ordinal Encoding*** yapabilir ve değerlerimizi manuel olarak atayabiliriz."
   ]
  },
  {
   "cell_type": "code",
   "execution_count": 20,
   "metadata": {},
   "outputs": [
    {
     "data": {
      "text/html": [
       "<div>\n",
       "<style scoped>\n",
       "    .dataframe tbody tr th:only-of-type {\n",
       "        vertical-align: middle;\n",
       "    }\n",
       "\n",
       "    .dataframe tbody tr th {\n",
       "        vertical-align: top;\n",
       "    }\n",
       "\n",
       "    .dataframe thead th {\n",
       "        text-align: right;\n",
       "    }\n",
       "</style>\n",
       "<table border=\"1\" class=\"dataframe\">\n",
       "  <thead>\n",
       "    <tr style=\"text-align: right;\">\n",
       "      <th></th>\n",
       "      <th>policy_annual_premium_groups</th>\n",
       "    </tr>\n",
       "  </thead>\n",
       "  <tbody>\n",
       "    <tr>\n",
       "      <th>0</th>\n",
       "      <td>medium</td>\n",
       "    </tr>\n",
       "    <tr>\n",
       "      <th>1</th>\n",
       "      <td>medium</td>\n",
       "    </tr>\n",
       "    <tr>\n",
       "      <th>2</th>\n",
       "      <td>medium</td>\n",
       "    </tr>\n",
       "    <tr>\n",
       "      <th>3</th>\n",
       "      <td>medium</td>\n",
       "    </tr>\n",
       "    <tr>\n",
       "      <th>4</th>\n",
       "      <td>high</td>\n",
       "    </tr>\n",
       "    <tr>\n",
       "      <th>...</th>\n",
       "      <td>...</td>\n",
       "    </tr>\n",
       "    <tr>\n",
       "      <th>995</th>\n",
       "      <td>medium</td>\n",
       "    </tr>\n",
       "    <tr>\n",
       "      <th>996</th>\n",
       "      <td>medium</td>\n",
       "    </tr>\n",
       "    <tr>\n",
       "      <th>997</th>\n",
       "      <td>medium</td>\n",
       "    </tr>\n",
       "    <tr>\n",
       "      <th>998</th>\n",
       "      <td>medium</td>\n",
       "    </tr>\n",
       "    <tr>\n",
       "      <th>999</th>\n",
       "      <td>low</td>\n",
       "    </tr>\n",
       "  </tbody>\n",
       "</table>\n",
       "<p>1000 rows × 1 columns</p>\n",
       "</div>"
      ],
      "text/plain": [
       "    policy_annual_premium_groups\n",
       "0                         medium\n",
       "1                         medium\n",
       "2                         medium\n",
       "3                         medium\n",
       "4                           high\n",
       "..                           ...\n",
       "995                       medium\n",
       "996                       medium\n",
       "997                       medium\n",
       "998                       medium\n",
       "999                          low\n",
       "\n",
       "[1000 rows x 1 columns]"
      ]
     },
     "execution_count": 20,
     "metadata": {},
     "output_type": "execute_result"
    }
   ],
   "source": [
    "#Bu kolon ordinal değerler içermekte ve veri setinde ordinal encoding'e en uygun kolondur.\n",
    "df[[\"policy_annual_premium_groups\"]]"
   ]
  },
  {
   "cell_type": "markdown",
   "metadata": {},
   "source": [
    "Bu kolonda bulunan 5 değer de gösterilmektedir. Eğer label encoding yapılsaydı ilk yazdırılan listeye 0'dan 4'e kadar sayısal değerler atanacaktı ama veri tipi kategoriğe çevrildiği için aralarındaki mantıksal ilişki aşağıdaki satırda gösterilmektedir. "
   ]
  },
  {
   "cell_type": "code",
   "execution_count": 21,
   "metadata": {},
   "outputs": [
    {
     "data": {
      "text/plain": [
       "['medium', 'high', 'low', 'very high', 'very low']\n",
       "Categories (5, object): ['very low' < 'low' < 'medium' < 'high' < 'very high']"
      ]
     },
     "execution_count": 21,
     "metadata": {},
     "output_type": "execute_result"
    }
   ],
   "source": [
    "df.policy_annual_premium_groups.unique()"
   ]
  },
  {
   "cell_type": "markdown",
   "metadata": {},
   "source": [
    "Manuel olarak ordinal encoding işlemi basitçe map() fonksiyonuyla yapılmaktadır. Aynı işlem sckit learn kütüphanesinden de yapılabilir."
   ]
  },
  {
   "cell_type": "code",
   "execution_count": 22,
   "metadata": {},
   "outputs": [],
   "source": [
    "df[\"policy_annual_premium_groups_encoded\"] = df[\"policy_annual_premium_groups\"].map(\n",
    "    {'very low':1, 'low':2, 'medium':3, 'high':4, 'very high':5})"
   ]
  },
  {
   "cell_type": "code",
   "execution_count": 23,
   "metadata": {},
   "outputs": [
    {
     "data": {
      "text/html": [
       "<div>\n",
       "<style scoped>\n",
       "    .dataframe tbody tr th:only-of-type {\n",
       "        vertical-align: middle;\n",
       "    }\n",
       "\n",
       "    .dataframe tbody tr th {\n",
       "        vertical-align: top;\n",
       "    }\n",
       "\n",
       "    .dataframe thead th {\n",
       "        text-align: right;\n",
       "    }\n",
       "</style>\n",
       "<table border=\"1\" class=\"dataframe\">\n",
       "  <thead>\n",
       "    <tr style=\"text-align: right;\">\n",
       "      <th></th>\n",
       "      <th>policy_annual_premium_groups</th>\n",
       "      <th>policy_annual_premium_groups_encoded</th>\n",
       "    </tr>\n",
       "  </thead>\n",
       "  <tbody>\n",
       "    <tr>\n",
       "      <th>0</th>\n",
       "      <td>medium</td>\n",
       "      <td>3</td>\n",
       "    </tr>\n",
       "    <tr>\n",
       "      <th>1</th>\n",
       "      <td>medium</td>\n",
       "      <td>3</td>\n",
       "    </tr>\n",
       "    <tr>\n",
       "      <th>2</th>\n",
       "      <td>medium</td>\n",
       "      <td>3</td>\n",
       "    </tr>\n",
       "    <tr>\n",
       "      <th>3</th>\n",
       "      <td>medium</td>\n",
       "      <td>3</td>\n",
       "    </tr>\n",
       "    <tr>\n",
       "      <th>4</th>\n",
       "      <td>high</td>\n",
       "      <td>4</td>\n",
       "    </tr>\n",
       "    <tr>\n",
       "      <th>...</th>\n",
       "      <td>...</td>\n",
       "      <td>...</td>\n",
       "    </tr>\n",
       "    <tr>\n",
       "      <th>995</th>\n",
       "      <td>medium</td>\n",
       "      <td>3</td>\n",
       "    </tr>\n",
       "    <tr>\n",
       "      <th>996</th>\n",
       "      <td>medium</td>\n",
       "      <td>3</td>\n",
       "    </tr>\n",
       "    <tr>\n",
       "      <th>997</th>\n",
       "      <td>medium</td>\n",
       "      <td>3</td>\n",
       "    </tr>\n",
       "    <tr>\n",
       "      <th>998</th>\n",
       "      <td>medium</td>\n",
       "      <td>3</td>\n",
       "    </tr>\n",
       "    <tr>\n",
       "      <th>999</th>\n",
       "      <td>low</td>\n",
       "      <td>2</td>\n",
       "    </tr>\n",
       "  </tbody>\n",
       "</table>\n",
       "<p>1000 rows × 2 columns</p>\n",
       "</div>"
      ],
      "text/plain": [
       "    policy_annual_premium_groups policy_annual_premium_groups_encoded\n",
       "0                         medium                                    3\n",
       "1                         medium                                    3\n",
       "2                         medium                                    3\n",
       "3                         medium                                    3\n",
       "4                           high                                    4\n",
       "..                           ...                                  ...\n",
       "995                       medium                                    3\n",
       "996                       medium                                    3\n",
       "997                       medium                                    3\n",
       "998                       medium                                    3\n",
       "999                          low                                    2\n",
       "\n",
       "[1000 rows x 2 columns]"
      ]
     },
     "execution_count": 23,
     "metadata": {},
     "output_type": "execute_result"
    }
   ],
   "source": [
    "#Veriler istediğimiz şekilde encode edildi\n",
    "df[[\"policy_annual_premium_groups\", \"policy_annual_premium_groups_encoded\"]]"
   ]
  },
  {
   "cell_type": "code",
   "execution_count": 24,
   "metadata": {},
   "outputs": [],
   "source": [
    "#kategorik verileri içeren verilerin düşürülmesi\n",
    "df = df.drop(['policy_annual_premium_groups'], axis = 1)"
   ]
  },
  {
   "cell_type": "markdown",
   "metadata": {},
   "source": [
    "##### ----------------------------------------------------------------------------------------------------------------------------------------------------------------------------------------------------------"
   ]
  },
  {
   "cell_type": "markdown",
   "metadata": {},
   "source": [
    "İlk soruda bahsedilen pipeline yapısı artık oluşturulabilir. Öncelikle bir column_transformer nesnesi tanımlanarak StandardScaler ve OneHotEncoder işlemleri içerisine yazdırılacaktır. Bunun için önce kategorik ve numerik kolonların yazdırılması gerekir."
   ]
  },
  {
   "cell_type": "code",
   "execution_count": 25,
   "metadata": {},
   "outputs": [
    {
     "data": {
      "text/plain": [
       "Index(['policy_state', 'policy_csl', 'umbrella_limit', 'insured_sex',\n",
       "       'insured_education_level', 'insured_occupation', 'insured_hobbies',\n",
       "       'insured_relationship', 'incident_type', 'collision_type',\n",
       "       'incident_severity', 'authorities_contacted', 'incident_state',\n",
       "       'incident_city', 'incident_location', 'property_damage',\n",
       "       'police_report_available', 'auto_make', 'auto_model', 'fraud_reported',\n",
       "       'age_group', 'months_as_customer_groups', 'policy_deductable_group',\n",
       "       'policy_annual_premium_groups_encoded'],\n",
       "      dtype='object')"
      ]
     },
     "execution_count": 25,
     "metadata": {},
     "output_type": "execute_result"
    }
   ],
   "source": [
    "#kategorik kolonların yazdırılması. burada policy_annual_premium_groups_encoded kolonu gözükmekte ama \n",
    "#zaten ordinal encoding yapıldığı için column_transformer'da işleme katılmayacaktır.\n",
    "cat_cols = df.select_dtypes(include=['category'])\n",
    "cat_cols.columns"
   ]
  },
  {
   "cell_type": "code",
   "execution_count": 26,
   "metadata": {},
   "outputs": [
    {
     "data": {
      "text/plain": [
       "Index(['capital-gains', 'capital-loss', 'incident_hour_of_the_day',\n",
       "       'number_of_vehicles_involved', 'bodily_injuries', 'witnesses',\n",
       "       'total_claim_amount', 'claim_day_of_policy'],\n",
       "      dtype='object')"
      ]
     },
     "execution_count": 26,
     "metadata": {},
     "output_type": "execute_result"
    }
   ],
   "source": [
    "#numerik kolonların yazdırılması.\n",
    "num_cols = df.select_dtypes(include=['int64'])\n",
    "num_cols.columns"
   ]
  },
  {
   "cell_type": "code",
   "execution_count": 27,
   "metadata": {},
   "outputs": [],
   "source": [
    "#column_transformer nesnesinin oluşturulması. burada OneHotEncoder içerisindeki handle_unknown parametresi\n",
    "#verilerin tekrar ederek shape error vermesi engellenecektir.\n",
    "column_trans = make_column_transformer(\n",
    "               (StandardScaler(), ['capital-gains', 'capital-loss',\n",
    "                                   'incident_hour_of_the_day', 'number_of_vehicles_involved',\n",
    "                                   'bodily_injuries', 'witnesses', 'total_claim_amount',\n",
    "                                   'claim_day_of_policy'\n",
    "                                   ]),\n",
    "               (OneHotEncoder(handle_unknown=\"ignore\"), ['policy_state', 'policy_csl', 'insured_sex', 'insured_education_level',\n",
    "                                   'insured_occupation', 'insured_hobbies', 'insured_relationship',\n",
    "                                   'incident_type', 'collision_type', 'incident_severity',\n",
    "                                   'authorities_contacted', 'incident_state', 'incident_city',\n",
    "                                   'incident_location', 'property_damage', 'police_report_available',\n",
    "                                   'auto_make', 'auto_model', 'age_group',\n",
    "                                   'months_as_customer_groups',\n",
    "                                   'policy_deductable_group', 'umbrella_limit']),\n",
    "               remainder=\"passthrough\")"
   ]
  },
  {
   "cell_type": "markdown",
   "metadata": {},
   "source": [
    "Artık model eğitme aşamasına geçilebilir. İlk eğitim aşaması için Mantıksal Regresyon seçilmiştir."
   ]
  },
  {
   "cell_type": "code",
   "execution_count": 28,
   "metadata": {},
   "outputs": [],
   "source": [
    "X = df.drop(\"fraud_reported\", axis=\"columns\")\n",
    "y = df.fraud_reported"
   ]
  },
  {
   "cell_type": "markdown",
   "metadata": {},
   "source": [
    "Column_trans nesnesi fit_transform edildiğinde (1000,1184) şeklinde ve içerisinde 31009 değer olan bir matris tutulduğu bilgisini yazdırdı."
   ]
  },
  {
   "cell_type": "code",
   "execution_count": 29,
   "metadata": {},
   "outputs": [
    {
     "data": {
      "text/plain": [
       "<1000x1184 sparse matrix of type '<class 'numpy.float64'>'\n",
       "\twith 31009 stored elements in Compressed Sparse Row format>"
      ]
     },
     "execution_count": 29,
     "metadata": {},
     "output_type": "execute_result"
    }
   ],
   "source": [
    "column_trans.fit_transform(X, y)"
   ]
  },
  {
   "cell_type": "code",
   "execution_count": 30,
   "metadata": {},
   "outputs": [],
   "source": [
    "#train ve test veri setlerinin ayrılması\n",
    "X_train, X_test, y_train, y_test = train_test_split(X, y, test_size = 0.25, random_state = 42)"
   ]
  },
  {
   "cell_type": "code",
   "execution_count": 31,
   "metadata": {},
   "outputs": [],
   "source": [
    "#Mantıksal regresyon modelinin çağırılması\n",
    "log_reg = LogisticRegression(random_state=42)"
   ]
  },
  {
   "cell_type": "code",
   "execution_count": 32,
   "metadata": {},
   "outputs": [],
   "source": [
    "#pipeline yapısı kurulumu. bu şekilde column_trans içerisindeki çok sayıda veri hızlı bir şekilde eğitilecektir.\n",
    "pipe_log_reg = make_pipeline(column_trans, log_reg)"
   ]
  },
  {
   "cell_type": "code",
   "execution_count": 33,
   "metadata": {},
   "outputs": [
    {
     "name": "stdout",
     "output_type": "stream",
     "text": [
      "76.8\n"
     ]
    }
   ],
   "source": [
    "#artık model yerine pipe değişkenini verebiliriz\n",
    "pipe_log_reg.fit(X_train, y_train)\n",
    "preds = pipe_log_reg.predict(X_test)\n",
    "\n",
    "#Mantıksal regresyon skorunun yazdırılması\n",
    "score = pipe_log_reg.score(X_test, y_test)\n",
    "print(score*100)"
   ]
  },
  {
   "cell_type": "markdown",
   "metadata": {},
   "source": [
    "Son bilgilerin de yazdırılmasıyla ilk model eğitilmiş oldu"
   ]
  },
  {
   "cell_type": "code",
   "execution_count": 34,
   "metadata": {},
   "outputs": [
    {
     "name": "stdout",
     "output_type": "stream",
     "text": [
      "              precision    recall  f1-score   support\n",
      "\n",
      "           0       0.81      0.90      0.85       183\n",
      "           1       0.60      0.42      0.49        67\n",
      "\n",
      "    accuracy                           0.77       250\n",
      "   macro avg       0.70      0.66      0.67       250\n",
      "weighted avg       0.75      0.77      0.75       250\n",
      "\n"
     ]
    },
    {
     "data": {
      "text/plain": [
       "<AxesSubplot:>"
      ]
     },
     "execution_count": 34,
     "metadata": {},
     "output_type": "execute_result"
    },
    {
     "data": {
      "image/png": "[encoded data removed]",
      "text/plain": [
       "<Figure size 432x288 with 2 Axes>"
      ]
     },
     "metadata": {
      "needs_background": "light"
     },
     "output_type": "display_data"
    }
   ],
   "source": [
    "#evaluation metriklerinin yazdırılması ve heatmap\n",
    "print(classification_report(y_test, preds))\n",
    "cm = confusion_matrix(y_test, preds)\n",
    "sns\n",
    "sns.heatmap(cm, annot=True)"
   ]
  },
  {
   "cell_type": "markdown",
   "metadata": {},
   "source": [
    "##### ----------------------------------------------------------------------------------------------------------------------------------------------------------------------------------------------------------"
   ]
  },
  {
   "cell_type": "markdown",
   "metadata": {},
   "source": [
    "# Soru 3"
   ]
  },
  {
   "cell_type": "markdown",
   "metadata": {},
   "source": [
    "**Imbalance datasette train test split yaparken neleri göz önünde bulundurmalıyız?**"
   ]
  },
  {
   "cell_type": "markdown",
   "metadata": {},
   "source": [
    "Öncelikle incelemek istenilen veride dengesizlik olup olmadığı kontrol edilmelidir."
   ]
  },
  {
   "cell_type": "code",
   "execution_count": 35,
   "metadata": {},
   "outputs": [
    {
     "data": {
      "text/plain": [
       "<AxesSubplot:xlabel='fraud_reported', ylabel='count'>"
      ]
     },
     "execution_count": 35,
     "metadata": {},
     "output_type": "execute_result"
    },
    {
     "data": {
      "image/png": "[encoded data removed]",
      "text/plain": [
       "<Figure size 432x288 with 1 Axes>"
      ]
     },
     "metadata": {
      "needs_background": "light"
     },
     "output_type": "display_data"
    }
   ],
   "source": [
    "sns.countplot(df['fraud_reported'])"
   ]
  },
  {
   "cell_type": "markdown",
   "metadata": {},
   "source": [
    "Imbalance(dengesiz) veriler, ***dolandırıcılık tespiti(fraud detection), kanserli hücre tahmini veya ağlara saldırı tespiti(intrusion detection in networks)*** veri setlerinde oldukça yaygındırlar. Ama çoğu makine öğrenmesi algoritması imbalance veri setlerinde doğru çalışmaz. Bu yüzden bir düzenleme işlemi yapılması gerekmektedir. Imbalance veri setlerini düzenlemek için birçok yöntem bulunmaktadır:\n",
    "- **Under sampling majority class**: Çoğunluk sınıfının değerlerinin daha azının kullanılmasıdır. Elimizdeki veri seti için 0 kümesi değerlerini(fraud tespit edilmeyen), 1 kümesi değerleri(fraud tespit edilmiş) ile eşitlemek anlamına gelir. Ama çok fazla veri kaybı olacağı için önerilmez.\n",
    "- **Over sampling minorty class by duplication**: Minör kümenin verilerini majör kümenin verileri sayısına eşit olacak şekilde kopyalamak anlamına gelmektedir.\n",
    "- **Over sampling minorty class using SMOTE**: K-Nearest Neighbors algoritması kullanarak over-sampling işlemi yapmaktır. Burada aynı verilerin kopyalanması yerine komşulukları alınarak minör küme verileri doldurulur.\n",
    "- **Ensemble Method**: Kümeleri bölünebilecek kadar eşit parçaya bölüp(örneğin elimizdeki veri setinde majör kümeyi 3 kere bölerek minör kümeye eşitleyebiliriz) modeller eğiterek bu modellerin en iyisi seçilir.\n"
   ]
  },
  {
   "cell_type": "markdown",
   "metadata": {},
   "source": [
    "## Undersampling\n",
    "Öncelikle undersampling denenecektir. Bunun için ***imblearn*** kütüphanesinden fonksiyonlar çağırılacak ve sonuçların nasıl değşitiği incelenecektir. "
   ]
  },
  {
   "cell_type": "code",
   "execution_count": 36,
   "metadata": {},
   "outputs": [],
   "source": [
    "#undersample yapmak için ayırdığımız X_train ve y_train ögelerini tekrar ayırırız.\n",
    "rus = RandomUnderSampler(random_state=42, replacement=True)\n",
    "X_under, y_under = rus.fit_resample(X_train, y_train)\n",
    "\n",
    "X_train_u, X_test_u, y_train_u, y_test_u = train_test_split(X_under, y_under, test_size = 0.3, random_state = 42)"
   ]
  },
  {
   "cell_type": "code",
   "execution_count": 37,
   "metadata": {},
   "outputs": [
    {
     "data": {
      "text/plain": [
       "<AxesSubplot:xlabel='fraud_reported', ylabel='count'>"
      ]
     },
     "execution_count": 37,
     "metadata": {},
     "output_type": "execute_result"
    },
    {
     "data": {
      "image/png": "[encoded data removed]",
      "text/plain": [
       "<Figure size 432x288 with 1 Axes>"
      ]
     },
     "metadata": {
      "needs_background": "light"
     },
     "output_type": "display_data"
    }
   ],
   "source": [
    "#kontrol sonucu majör ve minör kümelerin düşük bir değerde eşitlendiği görülmektedir.\n",
    "chck2 = pd.DataFrame()\n",
    "chck2['fraud_reported'] = y_train_u\n",
    "\n",
    "sns.countplot(chck2['fraud_reported'])"
   ]
  },
  {
   "cell_type": "markdown",
   "metadata": {},
   "source": [
    "Karşılaştırma yapmak amacıyla tekrar mantıksal regresyon modeli eğitilmiştir."
   ]
  },
  {
   "cell_type": "code",
   "execution_count": 38,
   "metadata": {},
   "outputs": [
    {
     "name": "stdout",
     "output_type": "stream",
     "text": [
      "79.62962962962963\n"
     ]
    }
   ],
   "source": [
    "#artık model yerine pipe değişkenini verebiliriz\n",
    "pipe_log_reg.fit(X_train_u, y_train_u)\n",
    "preds = pipe_log_reg.predict(X_test_u)\n",
    "\n",
    "#mantıksal regresyon skorunun yazdırılması\n",
    "score = pipe_log_reg.score(X_test_u, y_test_u)\n",
    "print(score*100)"
   ]
  },
  {
   "cell_type": "markdown",
   "metadata": {},
   "source": [
    "Modelin eğitilmesi sonucunda fraud tahmin etme oranı ve genel skoru yükselmiştir fakat modelin veri sayısı azaldığı için güvenilirlik oranı azalmıştır. Bu yüzden oversampling de denenmelidir."
   ]
  },
  {
   "cell_type": "code",
   "execution_count": 39,
   "metadata": {},
   "outputs": [
    {
     "name": "stdout",
     "output_type": "stream",
     "text": [
      "              precision    recall  f1-score   support\n",
      "\n",
      "           0       0.81      0.78      0.80        55\n",
      "           1       0.78      0.81      0.80        53\n",
      "\n",
      "    accuracy                           0.80       108\n",
      "   macro avg       0.80      0.80      0.80       108\n",
      "weighted avg       0.80      0.80      0.80       108\n",
      "\n"
     ]
    },
    {
     "data": {
      "text/plain": [
       "<AxesSubplot:>"
      ]
     },
     "execution_count": 39,
     "metadata": {},
     "output_type": "execute_result"
    },
    {
     "data": {
      "image/png": "[encoded data removed]",
      "text/plain": [
       "<Figure size 432x288 with 2 Axes>"
      ]
     },
     "metadata": {
      "needs_background": "light"
     },
     "output_type": "display_data"
    }
   ],
   "source": [
    "#evaluation metriklerinin yazdırılması ve heatmap\n",
    "print(classification_report(y_test_u, preds))\n",
    "cm = confusion_matrix(y_test_u, preds)\n",
    "sns\n",
    "sns.heatmap(cm, annot=True)"
   ]
  },
  {
   "cell_type": "markdown",
   "metadata": {},
   "source": [
    "## Oversampling"
   ]
  },
  {
   "cell_type": "markdown",
   "metadata": {},
   "source": [
    "Burada imblearn kütüphanesinden RandomOverSampler kullanılacaktır."
   ]
  },
  {
   "cell_type": "code",
   "execution_count": 40,
   "metadata": {},
   "outputs": [],
   "source": [
    "ros = RandomOverSampler(random_state=42)\n",
    "X_over, y_over = ros.fit_resample(X_train, y_train)"
   ]
  },
  {
   "cell_type": "code",
   "execution_count": 41,
   "metadata": {},
   "outputs": [],
   "source": [
    "X_train_o, X_test_o, y_train_o, y_test_o = train_test_split(X_over, y_over, test_size = 0.3, random_state = 42)"
   ]
  },
  {
   "cell_type": "code",
   "execution_count": 42,
   "metadata": {},
   "outputs": [
    {
     "data": {
      "text/plain": [
       "<AxesSubplot:xlabel='fraud_reported', ylabel='count'>"
      ]
     },
     "execution_count": 42,
     "metadata": {},
     "output_type": "execute_result"
    },
    {
     "data": {
      "image/png": "[encoded data removed]",
      "text/plain": [
       "<Figure size 432x288 with 1 Axes>"
      ]
     },
     "metadata": {
      "needs_background": "light"
     },
     "output_type": "display_data"
    }
   ],
   "source": [
    "chck2 = pd.DataFrame()\n",
    "chck2['fraud_reported'] = y_train_o\n",
    "\n",
    "sns.countplot(chck2['fraud_reported'])"
   ]
  },
  {
   "cell_type": "code",
   "execution_count": 43,
   "metadata": {},
   "outputs": [
    {
     "name": "stdout",
     "output_type": "stream",
     "text": [
      "90.05847953216374\n"
     ]
    }
   ],
   "source": [
    "#artık model yerine pipe değişkenini verebiliriz\n",
    "pipe_log_reg.fit(X_train_o, y_train_o)\n",
    "preds = pipe_log_reg.predict(X_test_o)\n",
    "\n",
    "#Mantıksal regresyon skorunun yazdırılması\n",
    "score = pipe_log_reg.score(X_test_o, y_test_o)\n",
    "print(score*100)"
   ]
  },
  {
   "cell_type": "code",
   "execution_count": 44,
   "metadata": {},
   "outputs": [
    {
     "name": "stdout",
     "output_type": "stream",
     "text": [
      "              precision    recall  f1-score   support\n",
      "\n",
      "           0       0.94      0.86      0.90       176\n",
      "           1       0.86      0.95      0.90       166\n",
      "\n",
      "    accuracy                           0.90       342\n",
      "   macro avg       0.90      0.90      0.90       342\n",
      "weighted avg       0.90      0.90      0.90       342\n",
      "\n"
     ]
    },
    {
     "data": {
      "text/plain": [
       "<AxesSubplot:>"
      ]
     },
     "execution_count": 44,
     "metadata": {},
     "output_type": "execute_result"
    },
    {
     "data": {
      "image/png": "[encoded data removed]",
      "text/plain": [
       "<Figure size 432x288 with 2 Axes>"
      ]
     },
     "metadata": {
      "needs_background": "light"
     },
     "output_type": "display_data"
    }
   ],
   "source": [
    "#evaluation metriklerinin yazdırılması ve heatmap\n",
    "print(classification_report(y_test_o, preds))\n",
    "cm = confusion_matrix(y_test_o, preds)\n",
    "sns\n",
    "sns.heatmap(cm, annot=True)"
   ]
  },
  {
   "cell_type": "markdown",
   "metadata": {},
   "source": [
    "##### ----------------------------------------------------------------------------------------------------------------------------------------------------------------------------------------------------------"
   ]
  },
  {
   "cell_type": "markdown",
   "metadata": {},
   "source": [
    "# Soru 4"
   ]
  },
  {
   "cell_type": "markdown",
   "metadata": {},
   "source": [
    "**Validation dataseti (modelin görmediği) nasıl oluşturulur ve nasıl predict etmeye hazır hale getirilir?**"
   ]
  },
  {
   "cell_type": "markdown",
   "metadata": {},
   "source": [
    "Validation dataseti oluşturmak dataseti train, validation ve test olarak üçe bölme işlemi gerçekleştirmek demektir. Önce train dataseti düzenlenerek validation dataseti üzerinde model seçimi yapılır. Daha sonra en uygun model test datasetinde tekrar denenir ve sonuçlar karşılaştırılır.\n",
    "- Validation dataseti oluşturmak için 2 defa train_test_split çağırmak yeterlidir. Datasetleri bölme işlemi görsele göre belirlenmiştir."
   ]
  },
  {
   "cell_type": "code",
   "execution_count": 45,
   "metadata": {},
   "outputs": [
    {
     "data": {
      "text/html": [
       "<img src=\"images/val.png\" width=\"600\" height=\"600\"/>"
      ],
      "text/plain": [
       "<IPython.core.display.Image object>"
      ]
     },
     "execution_count": 45,
     "metadata": {},
     "output_type": "execute_result"
    }
   ],
   "source": [
    "Image(url= \"images/val.png\", width=600, height=600)"
   ]
  },
  {
   "cell_type": "code",
   "execution_count": 46,
   "metadata": {},
   "outputs": [],
   "source": [
    "#verisetinin 3 farklı gruba bölünmesi\n",
    "X_train_val, X_test, y_train_val, y_test = train_test_split(X, y, test_size = 0.4)\n",
    "relative_train_size = 0.6 / ((0.4/0.5) + 0.6)\n",
    "X_train, X_val, y_train, y_val = train_test_split(X_train_val, y_train_val,\n",
    "                                                  train_size = relative_train_size, test_size = 1-relative_train_size)"
   ]
  },
  {
   "cell_type": "code",
   "execution_count": 47,
   "metadata": {},
   "outputs": [
    {
     "data": {
      "text/html": [
       "<div>\n",
       "<style scoped>\n",
       "    .dataframe tbody tr th:only-of-type {\n",
       "        vertical-align: middle;\n",
       "    }\n",
       "\n",
       "    .dataframe tbody tr th {\n",
       "        vertical-align: top;\n",
       "    }\n",
       "\n",
       "    .dataframe thead th {\n",
       "        text-align: right;\n",
       "    }\n",
       "</style>\n",
       "<table border=\"1\" class=\"dataframe\">\n",
       "  <thead>\n",
       "    <tr style=\"text-align: right;\">\n",
       "      <th></th>\n",
       "      <th>policy_state</th>\n",
       "      <th>policy_csl</th>\n",
       "      <th>umbrella_limit</th>\n",
       "      <th>insured_sex</th>\n",
       "      <th>insured_education_level</th>\n",
       "      <th>insured_occupation</th>\n",
       "      <th>insured_hobbies</th>\n",
       "      <th>insured_relationship</th>\n",
       "      <th>capital-gains</th>\n",
       "      <th>capital-loss</th>\n",
       "      <th>incident_type</th>\n",
       "      <th>collision_type</th>\n",
       "      <th>incident_severity</th>\n",
       "      <th>authorities_contacted</th>\n",
       "      <th>incident_state</th>\n",
       "      <th>incident_city</th>\n",
       "      <th>incident_location</th>\n",
       "      <th>incident_hour_of_the_day</th>\n",
       "      <th>number_of_vehicles_involved</th>\n",
       "      <th>property_damage</th>\n",
       "      <th>bodily_injuries</th>\n",
       "      <th>witnesses</th>\n",
       "      <th>police_report_available</th>\n",
       "      <th>total_claim_amount</th>\n",
       "      <th>auto_make</th>\n",
       "      <th>auto_model</th>\n",
       "      <th>claim_day_of_policy</th>\n",
       "      <th>location_check</th>\n",
       "      <th>age_group</th>\n",
       "      <th>months_as_customer_groups</th>\n",
       "      <th>policy_deductable_group</th>\n",
       "      <th>policy_annual_premium_groups_encoded</th>\n",
       "    </tr>\n",
       "  </thead>\n",
       "  <tbody>\n",
       "    <tr>\n",
       "      <th>441</th>\n",
       "      <td>OH</td>\n",
       "      <td>MISSING</td>\n",
       "      <td>0.0</td>\n",
       "      <td>MALE</td>\n",
       "      <td>MD</td>\n",
       "      <td>tech-support</td>\n",
       "      <td>board-games</td>\n",
       "      <td>own-child</td>\n",
       "      <td>54600</td>\n",
       "      <td>-45500</td>\n",
       "      <td>Multi-vehicle Collision</td>\n",
       "      <td>Front Collision</td>\n",
       "      <td>Total Loss</td>\n",
       "      <td>Other</td>\n",
       "      <td>WV</td>\n",
       "      <td>Hillsdale</td>\n",
       "      <td>3925 Sky St</td>\n",
       "      <td>17</td>\n",
       "      <td>3</td>\n",
       "      <td>NO</td>\n",
       "      <td>0</td>\n",
       "      <td>3</td>\n",
       "      <td>NO</td>\n",
       "      <td>81960</td>\n",
       "      <td>Dodge</td>\n",
       "      <td>Neon</td>\n",
       "      <td>4768</td>\n",
       "      <td>False</td>\n",
       "      <td>46-50</td>\n",
       "      <td>301-350</td>\n",
       "      <td>0-500</td>\n",
       "      <td>2</td>\n",
       "    </tr>\n",
       "    <tr>\n",
       "      <th>218</th>\n",
       "      <td>IL</td>\n",
       "      <td>MISSING</td>\n",
       "      <td>0.0</td>\n",
       "      <td>FEMALE</td>\n",
       "      <td>MD</td>\n",
       "      <td>prof-specialty</td>\n",
       "      <td>exercise</td>\n",
       "      <td>not-in-family</td>\n",
       "      <td>24800</td>\n",
       "      <td>0</td>\n",
       "      <td>Single Vehicle Collision</td>\n",
       "      <td>Rear Collision</td>\n",
       "      <td>Total Loss</td>\n",
       "      <td>Other</td>\n",
       "      <td>WV</td>\n",
       "      <td>Hillsdale</td>\n",
       "      <td>8782 3rd St</td>\n",
       "      <td>0</td>\n",
       "      <td>1</td>\n",
       "      <td>?</td>\n",
       "      <td>2</td>\n",
       "      <td>3</td>\n",
       "      <td>?</td>\n",
       "      <td>70290</td>\n",
       "      <td>Saab</td>\n",
       "      <td>92x</td>\n",
       "      <td>6823</td>\n",
       "      <td>False</td>\n",
       "      <td>46-50</td>\n",
       "      <td>301-350</td>\n",
       "      <td>0-500</td>\n",
       "      <td>3</td>\n",
       "    </tr>\n",
       "    <tr>\n",
       "      <th>660</th>\n",
       "      <td>IN</td>\n",
       "      <td>MISSING</td>\n",
       "      <td>0.0</td>\n",
       "      <td>MALE</td>\n",
       "      <td>College</td>\n",
       "      <td>adm-clerical</td>\n",
       "      <td>sleeping</td>\n",
       "      <td>unmarried</td>\n",
       "      <td>42700</td>\n",
       "      <td>-64900</td>\n",
       "      <td>Multi-vehicle Collision</td>\n",
       "      <td>Front Collision</td>\n",
       "      <td>Total Loss</td>\n",
       "      <td>Police</td>\n",
       "      <td>SC</td>\n",
       "      <td>Northbrook</td>\n",
       "      <td>9734 2nd Ridge</td>\n",
       "      <td>10</td>\n",
       "      <td>3</td>\n",
       "      <td>NO</td>\n",
       "      <td>0</td>\n",
       "      <td>0</td>\n",
       "      <td>NO</td>\n",
       "      <td>62800</td>\n",
       "      <td>Jeep</td>\n",
       "      <td>Wrangler</td>\n",
       "      <td>8102</td>\n",
       "      <td>False</td>\n",
       "      <td>56-60</td>\n",
       "      <td>451-500</td>\n",
       "      <td>1501-2000</td>\n",
       "      <td>3</td>\n",
       "    </tr>\n",
       "    <tr>\n",
       "      <th>241</th>\n",
       "      <td>IL</td>\n",
       "      <td>100/300</td>\n",
       "      <td>0.0</td>\n",
       "      <td>FEMALE</td>\n",
       "      <td>College</td>\n",
       "      <td>adm-clerical</td>\n",
       "      <td>skydiving</td>\n",
       "      <td>other-relative</td>\n",
       "      <td>0</td>\n",
       "      <td>-74500</td>\n",
       "      <td>Single Vehicle Collision</td>\n",
       "      <td>Front Collision</td>\n",
       "      <td>Major Damage</td>\n",
       "      <td>Other</td>\n",
       "      <td>VA</td>\n",
       "      <td>Columbus</td>\n",
       "      <td>5506 Best St</td>\n",
       "      <td>20</td>\n",
       "      <td>1</td>\n",
       "      <td>YES</td>\n",
       "      <td>2</td>\n",
       "      <td>0</td>\n",
       "      <td>NO</td>\n",
       "      <td>73700</td>\n",
       "      <td>Chevrolet</td>\n",
       "      <td>Silverado</td>\n",
       "      <td>1123</td>\n",
       "      <td>False</td>\n",
       "      <td>36-40</td>\n",
       "      <td>151-200</td>\n",
       "      <td>1501-2000</td>\n",
       "      <td>4</td>\n",
       "    </tr>\n",
       "    <tr>\n",
       "      <th>503</th>\n",
       "      <td>IL</td>\n",
       "      <td>500/1000</td>\n",
       "      <td>other</td>\n",
       "      <td>FEMALE</td>\n",
       "      <td>PhD</td>\n",
       "      <td>handlers-cleaners</td>\n",
       "      <td>board-games</td>\n",
       "      <td>own-child</td>\n",
       "      <td>0</td>\n",
       "      <td>-42700</td>\n",
       "      <td>Single Vehicle Collision</td>\n",
       "      <td>Front Collision</td>\n",
       "      <td>Total Loss</td>\n",
       "      <td>Other</td>\n",
       "      <td>SC</td>\n",
       "      <td>Springfield</td>\n",
       "      <td>1325 1st Lane</td>\n",
       "      <td>1</td>\n",
       "      <td>1</td>\n",
       "      <td>?</td>\n",
       "      <td>1</td>\n",
       "      <td>0</td>\n",
       "      <td>MISSING</td>\n",
       "      <td>42900</td>\n",
       "      <td>Accura</td>\n",
       "      <td>TL</td>\n",
       "      <td>7073</td>\n",
       "      <td>False</td>\n",
       "      <td>9999</td>\n",
       "      <td>301-350</td>\n",
       "      <td>0-500</td>\n",
       "      <td>3</td>\n",
       "    </tr>\n",
       "    <tr>\n",
       "      <th>...</th>\n",
       "      <td>...</td>\n",
       "      <td>...</td>\n",
       "      <td>...</td>\n",
       "      <td>...</td>\n",
       "      <td>...</td>\n",
       "      <td>...</td>\n",
       "      <td>...</td>\n",
       "      <td>...</td>\n",
       "      <td>...</td>\n",
       "      <td>...</td>\n",
       "      <td>...</td>\n",
       "      <td>...</td>\n",
       "      <td>...</td>\n",
       "      <td>...</td>\n",
       "      <td>...</td>\n",
       "      <td>...</td>\n",
       "      <td>...</td>\n",
       "      <td>...</td>\n",
       "      <td>...</td>\n",
       "      <td>...</td>\n",
       "      <td>...</td>\n",
       "      <td>...</td>\n",
       "      <td>...</td>\n",
       "      <td>...</td>\n",
       "      <td>...</td>\n",
       "      <td>...</td>\n",
       "      <td>...</td>\n",
       "      <td>...</td>\n",
       "      <td>...</td>\n",
       "      <td>...</td>\n",
       "      <td>...</td>\n",
       "      <td>...</td>\n",
       "    </tr>\n",
       "    <tr>\n",
       "      <th>711</th>\n",
       "      <td>IL</td>\n",
       "      <td>MISSING</td>\n",
       "      <td>0.0</td>\n",
       "      <td>MALE</td>\n",
       "      <td>JD</td>\n",
       "      <td>protective-serv</td>\n",
       "      <td>base-jumping</td>\n",
       "      <td>own-child</td>\n",
       "      <td>0</td>\n",
       "      <td>-51100</td>\n",
       "      <td>Parked Car</td>\n",
       "      <td>?</td>\n",
       "      <td>Minor Damage</td>\n",
       "      <td>None</td>\n",
       "      <td>SC</td>\n",
       "      <td>Riverwood</td>\n",
       "      <td>3006 Lincoln Ridge</td>\n",
       "      <td>16</td>\n",
       "      <td>1</td>\n",
       "      <td>NO</td>\n",
       "      <td>2</td>\n",
       "      <td>1</td>\n",
       "      <td>MISSING</td>\n",
       "      <td>4900</td>\n",
       "      <td>Jeep</td>\n",
       "      <td>Wrangler</td>\n",
       "      <td>8542</td>\n",
       "      <td>False</td>\n",
       "      <td>26-30</td>\n",
       "      <td>51-100</td>\n",
       "      <td>1501-2000</td>\n",
       "      <td>4</td>\n",
       "    </tr>\n",
       "    <tr>\n",
       "      <th>741</th>\n",
       "      <td>OH</td>\n",
       "      <td>MISSING</td>\n",
       "      <td>other</td>\n",
       "      <td>MALE</td>\n",
       "      <td>College</td>\n",
       "      <td>adm-clerical</td>\n",
       "      <td>golf</td>\n",
       "      <td>not-in-family</td>\n",
       "      <td>67300</td>\n",
       "      <td>0</td>\n",
       "      <td>Single Vehicle Collision</td>\n",
       "      <td>Rear Collision</td>\n",
       "      <td>Minor Damage</td>\n",
       "      <td>Other</td>\n",
       "      <td>NC</td>\n",
       "      <td>Columbus</td>\n",
       "      <td>5058 4th Lane</td>\n",
       "      <td>4</td>\n",
       "      <td>1</td>\n",
       "      <td>NO</td>\n",
       "      <td>1</td>\n",
       "      <td>2</td>\n",
       "      <td>NO</td>\n",
       "      <td>40800</td>\n",
       "      <td>BMW</td>\n",
       "      <td>X5</td>\n",
       "      <td>3602</td>\n",
       "      <td>False</td>\n",
       "      <td>31-35</td>\n",
       "      <td>101-150</td>\n",
       "      <td>0-500</td>\n",
       "      <td>3</td>\n",
       "    </tr>\n",
       "    <tr>\n",
       "      <th>358</th>\n",
       "      <td>IL</td>\n",
       "      <td>MISSING</td>\n",
       "      <td>9999</td>\n",
       "      <td>MALE</td>\n",
       "      <td>College</td>\n",
       "      <td>adm-clerical</td>\n",
       "      <td>yachting</td>\n",
       "      <td>wife</td>\n",
       "      <td>0</td>\n",
       "      <td>-13200</td>\n",
       "      <td>Single Vehicle Collision</td>\n",
       "      <td>Side Collision</td>\n",
       "      <td>Major Damage</td>\n",
       "      <td>Ambulance</td>\n",
       "      <td>SC</td>\n",
       "      <td>Springfield</td>\n",
       "      <td>4907 Andromedia Drive</td>\n",
       "      <td>22</td>\n",
       "      <td>1</td>\n",
       "      <td>?</td>\n",
       "      <td>1</td>\n",
       "      <td>3</td>\n",
       "      <td>?</td>\n",
       "      <td>82800</td>\n",
       "      <td>Jeep</td>\n",
       "      <td>Grand Cherokee</td>\n",
       "      <td>4404</td>\n",
       "      <td>False</td>\n",
       "      <td>31-35</td>\n",
       "      <td>151-200</td>\n",
       "      <td>501-1000</td>\n",
       "      <td>4</td>\n",
       "    </tr>\n",
       "    <tr>\n",
       "      <th>107</th>\n",
       "      <td>IN</td>\n",
       "      <td>MISSING</td>\n",
       "      <td>0.0</td>\n",
       "      <td>FEMALE</td>\n",
       "      <td>High School</td>\n",
       "      <td>handlers-cleaners</td>\n",
       "      <td>camping</td>\n",
       "      <td>own-child</td>\n",
       "      <td>0</td>\n",
       "      <td>-57000</td>\n",
       "      <td>Multi-vehicle Collision</td>\n",
       "      <td>Front Collision</td>\n",
       "      <td>Major Damage</td>\n",
       "      <td>Ambulance</td>\n",
       "      <td>WV</td>\n",
       "      <td>Columbus</td>\n",
       "      <td>7428 Sky Hwy</td>\n",
       "      <td>22</td>\n",
       "      <td>2</td>\n",
       "      <td>NO</td>\n",
       "      <td>1</td>\n",
       "      <td>0</td>\n",
       "      <td>?</td>\n",
       "      <td>74200</td>\n",
       "      <td>Volkswagen</td>\n",
       "      <td>Passat</td>\n",
       "      <td>8464</td>\n",
       "      <td>False</td>\n",
       "      <td>26-30</td>\n",
       "      <td>101-150</td>\n",
       "      <td>1501-2000</td>\n",
       "      <td>3</td>\n",
       "    </tr>\n",
       "    <tr>\n",
       "      <th>188</th>\n",
       "      <td>IN</td>\n",
       "      <td>MISSING</td>\n",
       "      <td>other</td>\n",
       "      <td>FEMALE</td>\n",
       "      <td>High School</td>\n",
       "      <td>tech-support</td>\n",
       "      <td>hiking</td>\n",
       "      <td>own-child</td>\n",
       "      <td>51000</td>\n",
       "      <td>-67900</td>\n",
       "      <td>Multi-vehicle Collision</td>\n",
       "      <td>Rear Collision</td>\n",
       "      <td>Major Damage</td>\n",
       "      <td>Other</td>\n",
       "      <td>WV</td>\n",
       "      <td>Hillsdale</td>\n",
       "      <td>9730 2nd Hwy</td>\n",
       "      <td>11</td>\n",
       "      <td>3</td>\n",
       "      <td>?</td>\n",
       "      <td>1</td>\n",
       "      <td>0</td>\n",
       "      <td>MISSING</td>\n",
       "      <td>73920</td>\n",
       "      <td>Honda</td>\n",
       "      <td>Civic</td>\n",
       "      <td>363</td>\n",
       "      <td>False</td>\n",
       "      <td>21-25</td>\n",
       "      <td>51-100</td>\n",
       "      <td>0-500</td>\n",
       "      <td>2</td>\n",
       "    </tr>\n",
       "  </tbody>\n",
       "</table>\n",
       "<p>343 rows × 32 columns</p>\n",
       "</div>"
      ],
      "text/plain": [
       "    policy_state policy_csl umbrella_limit insured_sex  \\\n",
       "441           OH    MISSING            0.0        MALE   \n",
       "218           IL    MISSING            0.0      FEMALE   \n",
       "660           IN    MISSING            0.0        MALE   \n",
       "241           IL    100/300            0.0      FEMALE   \n",
       "503           IL   500/1000          other      FEMALE   \n",
       "..           ...        ...            ...         ...   \n",
       "711           IL    MISSING            0.0        MALE   \n",
       "741           OH    MISSING          other        MALE   \n",
       "358           IL    MISSING           9999        MALE   \n",
       "107           IN    MISSING            0.0      FEMALE   \n",
       "188           IN    MISSING          other      FEMALE   \n",
       "\n",
       "    insured_education_level insured_occupation insured_hobbies  \\\n",
       "441                      MD       tech-support     board-games   \n",
       "218                      MD     prof-specialty        exercise   \n",
       "660                 College       adm-clerical        sleeping   \n",
       "241                 College       adm-clerical       skydiving   \n",
       "503                     PhD  handlers-cleaners     board-games   \n",
       "..                      ...                ...             ...   \n",
       "711                      JD    protective-serv    base-jumping   \n",
       "741                 College       adm-clerical            golf   \n",
       "358                 College       adm-clerical        yachting   \n",
       "107             High School  handlers-cleaners         camping   \n",
       "188             High School       tech-support          hiking   \n",
       "\n",
       "    insured_relationship  capital-gains  capital-loss  \\\n",
       "441            own-child          54600        -45500   \n",
       "218        not-in-family          24800             0   \n",
       "660            unmarried          42700        -64900   \n",
       "241       other-relative              0        -74500   \n",
       "503            own-child              0        -42700   \n",
       "..                   ...            ...           ...   \n",
       "711            own-child              0        -51100   \n",
       "741        not-in-family          67300             0   \n",
       "358                 wife              0        -13200   \n",
       "107            own-child              0        -57000   \n",
       "188            own-child          51000        -67900   \n",
       "\n",
       "                incident_type   collision_type incident_severity  \\\n",
       "441   Multi-vehicle Collision  Front Collision        Total Loss   \n",
       "218  Single Vehicle Collision   Rear Collision        Total Loss   \n",
       "660   Multi-vehicle Collision  Front Collision        Total Loss   \n",
       "241  Single Vehicle Collision  Front Collision      Major Damage   \n",
       "503  Single Vehicle Collision  Front Collision        Total Loss   \n",
       "..                        ...              ...               ...   \n",
       "711                Parked Car                ?      Minor Damage   \n",
       "741  Single Vehicle Collision   Rear Collision      Minor Damage   \n",
       "358  Single Vehicle Collision   Side Collision      Major Damage   \n",
       "107   Multi-vehicle Collision  Front Collision      Major Damage   \n",
       "188   Multi-vehicle Collision   Rear Collision      Major Damage   \n",
       "\n",
       "    authorities_contacted incident_state incident_city      incident_location  \\\n",
       "441                 Other             WV     Hillsdale            3925 Sky St   \n",
       "218                 Other             WV     Hillsdale            8782 3rd St   \n",
       "660                Police             SC    Northbrook         9734 2nd Ridge   \n",
       "241                 Other             VA      Columbus           5506 Best St   \n",
       "503                 Other             SC   Springfield          1325 1st Lane   \n",
       "..                    ...            ...           ...                    ...   \n",
       "711                  None             SC     Riverwood     3006 Lincoln Ridge   \n",
       "741                 Other             NC      Columbus          5058 4th Lane   \n",
       "358             Ambulance             SC   Springfield  4907 Andromedia Drive   \n",
       "107             Ambulance             WV      Columbus           7428 Sky Hwy   \n",
       "188                 Other             WV     Hillsdale           9730 2nd Hwy   \n",
       "\n",
       "     incident_hour_of_the_day  number_of_vehicles_involved property_damage  \\\n",
       "441                        17                            3              NO   \n",
       "218                         0                            1               ?   \n",
       "660                        10                            3              NO   \n",
       "241                        20                            1             YES   \n",
       "503                         1                            1               ?   \n",
       "..                        ...                          ...             ...   \n",
       "711                        16                            1              NO   \n",
       "741                         4                            1              NO   \n",
       "358                        22                            1               ?   \n",
       "107                        22                            2              NO   \n",
       "188                        11                            3               ?   \n",
       "\n",
       "     bodily_injuries  witnesses police_report_available  total_claim_amount  \\\n",
       "441                0          3                      NO               81960   \n",
       "218                2          3                       ?               70290   \n",
       "660                0          0                      NO               62800   \n",
       "241                2          0                      NO               73700   \n",
       "503                1          0                 MISSING               42900   \n",
       "..               ...        ...                     ...                 ...   \n",
       "711                2          1                 MISSING                4900   \n",
       "741                1          2                      NO               40800   \n",
       "358                1          3                       ?               82800   \n",
       "107                1          0                       ?               74200   \n",
       "188                1          0                 MISSING               73920   \n",
       "\n",
       "      auto_make      auto_model  claim_day_of_policy  location_check  \\\n",
       "441       Dodge            Neon                 4768           False   \n",
       "218        Saab             92x                 6823           False   \n",
       "660        Jeep        Wrangler                 8102           False   \n",
       "241   Chevrolet       Silverado                 1123           False   \n",
       "503      Accura              TL                 7073           False   \n",
       "..          ...             ...                  ...             ...   \n",
       "711        Jeep        Wrangler                 8542           False   \n",
       "741         BMW              X5                 3602           False   \n",
       "358        Jeep  Grand Cherokee                 4404           False   \n",
       "107  Volkswagen          Passat                 8464           False   \n",
       "188       Honda           Civic                  363           False   \n",
       "\n",
       "    age_group months_as_customer_groups policy_deductable_group  \\\n",
       "441     46-50                   301-350                   0-500   \n",
       "218     46-50                   301-350                   0-500   \n",
       "660     56-60                   451-500               1501-2000   \n",
       "241     36-40                   151-200               1501-2000   \n",
       "503      9999                   301-350                   0-500   \n",
       "..        ...                       ...                     ...   \n",
       "711     26-30                    51-100               1501-2000   \n",
       "741     31-35                   101-150                   0-500   \n",
       "358     31-35                   151-200                501-1000   \n",
       "107     26-30                   101-150               1501-2000   \n",
       "188     21-25                    51-100                   0-500   \n",
       "\n",
       "    policy_annual_premium_groups_encoded  \n",
       "441                                    2  \n",
       "218                                    3  \n",
       "660                                    3  \n",
       "241                                    4  \n",
       "503                                    3  \n",
       "..                                   ...  \n",
       "711                                    4  \n",
       "741                                    3  \n",
       "358                                    4  \n",
       "107                                    3  \n",
       "188                                    2  \n",
       "\n",
       "[343 rows x 32 columns]"
      ]
     },
     "execution_count": 47,
     "metadata": {},
     "output_type": "execute_result"
    }
   ],
   "source": [
    "X_val"
   ]
  },
  {
   "cell_type": "code",
   "execution_count": 48,
   "metadata": {},
   "outputs": [
    {
     "data": {
      "text/plain": [
       "441    0\n",
       "218    1\n",
       "660    0\n",
       "241    1\n",
       "503    0\n",
       "      ..\n",
       "711    0\n",
       "741    0\n",
       "358    1\n",
       "107    0\n",
       "188    1\n",
       "Name: fraud_reported, Length: 343, dtype: category\n",
       "Categories (2, int64): [0, 1]"
      ]
     },
     "execution_count": 48,
     "metadata": {},
     "output_type": "execute_result"
    }
   ],
   "source": [
    "y_val"
   ]
  },
  {
   "cell_type": "markdown",
   "metadata": {},
   "source": [
    "##### ----------------------------------------------------------------------------------------------------------------------------------------------------------------------------------------------------------"
   ]
  },
  {
   "cell_type": "markdown",
   "metadata": {},
   "source": [
    "Yukarıda train, test ve validation olarak ayırdığımız datasetler 5 farklı modelde eğitilecektir. Train dataseti olarak 3. soruda oversample yapılmış olan ***X_train_o*** ve ***y_train_o*** kullanılacaktır. Pipeline yapısı kullanıldığı için validation dataseti her model için encode ve scale olacaktır. En yüksek skoru veren model test datasetiyle tekrar denenecektir."
   ]
  },
  {
   "cell_type": "markdown",
   "metadata": {},
   "source": [
    "## Logistic Regression"
   ]
  },
  {
   "cell_type": "code",
   "execution_count": 49,
   "metadata": {},
   "outputs": [
    {
     "name": "stdout",
     "output_type": "stream",
     "text": [
      "0.8775510204081632\n"
     ]
    }
   ],
   "source": [
    "#artık model yerine pipe değişkenini verebiliriz\n",
    "pipe_log_reg.fit(X_train_o, y_train_o)\n",
    "preds = pipe_log_reg.predict(X_val)\n",
    "\n",
    "#Mantıksal regresyon skorunun yazdırılması\n",
    "score_logreg = pipe_log_reg.score(X_val, y_val)\n",
    "print(score_logreg)"
   ]
  },
  {
   "cell_type": "code",
   "execution_count": 50,
   "metadata": {},
   "outputs": [
    {
     "name": "stdout",
     "output_type": "stream",
     "text": [
      "              precision    recall  f1-score   support\n",
      "\n",
      "           0       0.95      0.88      0.91       248\n",
      "           1       0.73      0.87      0.80        95\n",
      "\n",
      "    accuracy                           0.88       343\n",
      "   macro avg       0.84      0.88      0.86       343\n",
      "weighted avg       0.89      0.88      0.88       343\n",
      "\n"
     ]
    },
    {
     "data": {
      "text/plain": [
       "<AxesSubplot:>"
      ]
     },
     "execution_count": 50,
     "metadata": {},
     "output_type": "execute_result"
    },
    {
     "data": {
      "image/png": "[encoded data removed]",
      "text/plain": [
       "<Figure size 432x288 with 2 Axes>"
      ]
     },
     "metadata": {
      "needs_background": "light"
     },
     "output_type": "display_data"
    }
   ],
   "source": [
    "print(classification_report(y_val, preds))\n",
    "cm = confusion_matrix(y_val, preds)\n",
    "sns\n",
    "sns.heatmap(cm, annot=True)"
   ]
  },
  {
   "cell_type": "markdown",
   "metadata": {},
   "source": [
    "## Random Forest"
   ]
  },
  {
   "cell_type": "code",
   "execution_count": 51,
   "metadata": {},
   "outputs": [],
   "source": [
    "random_forest = RandomForestClassifier(criterion= 'entropy', \n",
    "                                  max_depth= 10, \n",
    "                                  max_features= 'sqrt', \n",
    "                                  min_samples_leaf= 1, \n",
    "                                  min_samples_split= 3, \n",
    "                                  n_estimators= 140,\n",
    "                                  random_state=42)"
   ]
  },
  {
   "cell_type": "code",
   "execution_count": 52,
   "metadata": {},
   "outputs": [],
   "source": [
    "pipe_random_forest = make_pipeline(column_trans, random_forest)"
   ]
  },
  {
   "cell_type": "code",
   "execution_count": 53,
   "metadata": {},
   "outputs": [
    {
     "name": "stdout",
     "output_type": "stream",
     "text": [
      "0.8862973760932945\n"
     ]
    }
   ],
   "source": [
    "pipe_random_forest.fit(X_train_o, y_train_o)\n",
    "preds = pipe_random_forest.predict(X_val)\n",
    "\n",
    "score_ranfor = pipe_random_forest.score(X_val, y_val)\n",
    "print(score_ranfor)"
   ]
  },
  {
   "cell_type": "code",
   "execution_count": 54,
   "metadata": {},
   "outputs": [
    {
     "name": "stdout",
     "output_type": "stream",
     "text": [
      "              precision    recall  f1-score   support\n",
      "\n",
      "           0       0.96      0.88      0.92       248\n",
      "           1       0.75      0.89      0.81        95\n",
      "\n",
      "    accuracy                           0.89       343\n",
      "   macro avg       0.85      0.89      0.87       343\n",
      "weighted avg       0.90      0.89      0.89       343\n",
      "\n"
     ]
    },
    {
     "data": {
      "text/plain": [
       "<AxesSubplot:>"
      ]
     },
     "execution_count": 54,
     "metadata": {},
     "output_type": "execute_result"
    },
    {
     "data": {
      "image/png": "[encoded data removed]",
      "text/plain": [
       "<Figure size 432x288 with 2 Axes>"
      ]
     },
     "metadata": {
      "needs_background": "light"
     },
     "output_type": "display_data"
    }
   ],
   "source": [
    "print(classification_report(y_val, preds))\n",
    "cm = confusion_matrix(y_val, preds)\n",
    "sns\n",
    "sns.heatmap(cm, annot=True)"
   ]
  },
  {
   "cell_type": "markdown",
   "metadata": {},
   "source": [
    "## Decision Tree"
   ]
  },
  {
   "cell_type": "code",
   "execution_count": 55,
   "metadata": {},
   "outputs": [],
   "source": [
    "dtc = DecisionTreeClassifier(random_state=42)"
   ]
  },
  {
   "cell_type": "code",
   "execution_count": 56,
   "metadata": {},
   "outputs": [],
   "source": [
    "pipe_dtc = make_pipeline(column_trans, dtc)"
   ]
  },
  {
   "cell_type": "code",
   "execution_count": 57,
   "metadata": {},
   "outputs": [
    {
     "name": "stdout",
     "output_type": "stream",
     "text": [
      "0.9037900874635568\n"
     ]
    }
   ],
   "source": [
    "pipe_dtc.fit(X_train_o, y_train_o)\n",
    "preds = pipe_dtc.predict(X_val)\n",
    "\n",
    "score_dtc = pipe_dtc.score(X_val, y_val)\n",
    "print(score_dtc)"
   ]
  },
  {
   "cell_type": "code",
   "execution_count": 58,
   "metadata": {},
   "outputs": [
    {
     "name": "stdout",
     "output_type": "stream",
     "text": [
      "              precision    recall  f1-score   support\n",
      "\n",
      "           0       0.95      0.92      0.93       248\n",
      "           1       0.80      0.87      0.83        95\n",
      "\n",
      "    accuracy                           0.90       343\n",
      "   macro avg       0.87      0.89      0.88       343\n",
      "weighted avg       0.91      0.90      0.91       343\n",
      "\n"
     ]
    },
    {
     "data": {
      "text/plain": [
       "<AxesSubplot:>"
      ]
     },
     "execution_count": 58,
     "metadata": {},
     "output_type": "execute_result"
    },
    {
     "data": {
      "image/png": "[encoded data removed]",
      "text/plain": [
       "<Figure size 432x288 with 2 Axes>"
      ]
     },
     "metadata": {
      "needs_background": "light"
     },
     "output_type": "display_data"
    }
   ],
   "source": [
    "print(classification_report(y_val, preds))\n",
    "cm = confusion_matrix(y_val, preds)\n",
    "sns\n",
    "sns.heatmap(cm, annot=True)"
   ]
  },
  {
   "cell_type": "markdown",
   "metadata": {},
   "source": [
    "## K-Neighbours Classifier"
   ]
  },
  {
   "cell_type": "code",
   "execution_count": 59,
   "metadata": {},
   "outputs": [],
   "source": [
    "knn = KNeighborsClassifier()"
   ]
  },
  {
   "cell_type": "code",
   "execution_count": 60,
   "metadata": {},
   "outputs": [],
   "source": [
    "pipe_knn = make_pipeline(column_trans, knn)"
   ]
  },
  {
   "cell_type": "code",
   "execution_count": 61,
   "metadata": {},
   "outputs": [
    {
     "name": "stdout",
     "output_type": "stream",
     "text": [
      "0.717201166180758\n"
     ]
    }
   ],
   "source": [
    "pipe_knn.fit(X_train_o, y_train_o)\n",
    "preds = pipe_knn.predict(X_val)\n",
    "\n",
    "score_knn = pipe_knn.score(X_val, y_val)\n",
    "print(score_knn)"
   ]
  },
  {
   "cell_type": "code",
   "execution_count": 62,
   "metadata": {},
   "outputs": [
    {
     "name": "stdout",
     "output_type": "stream",
     "text": [
      "              precision    recall  f1-score   support\n",
      "\n",
      "           0       0.89      0.70      0.78       248\n",
      "           1       0.49      0.77      0.60        95\n",
      "\n",
      "    accuracy                           0.72       343\n",
      "   macro avg       0.69      0.73      0.69       343\n",
      "weighted avg       0.78      0.72      0.73       343\n",
      "\n"
     ]
    },
    {
     "data": {
      "text/plain": [
       "<AxesSubplot:>"
      ]
     },
     "execution_count": 62,
     "metadata": {},
     "output_type": "execute_result"
    },
    {
     "data": {
      "image/png": "[encoded data removed]",
      "text/plain": [
       "<Figure size 432x288 with 2 Axes>"
      ]
     },
     "metadata": {
      "needs_background": "light"
     },
     "output_type": "display_data"
    }
   ],
   "source": [
    "print(classification_report(y_val, preds))\n",
    "cm = confusion_matrix(y_val, preds)\n",
    "sns\n",
    "sns.heatmap(cm, annot=True)"
   ]
  },
  {
   "cell_type": "markdown",
   "metadata": {},
   "source": [
    "## Support Vector Machine"
   ]
  },
  {
   "cell_type": "code",
   "execution_count": 63,
   "metadata": {},
   "outputs": [],
   "source": [
    "svc = SVC(random_state=42)"
   ]
  },
  {
   "cell_type": "code",
   "execution_count": 64,
   "metadata": {},
   "outputs": [],
   "source": [
    "pipe_svc = make_pipeline(column_trans, svc)"
   ]
  },
  {
   "cell_type": "code",
   "execution_count": 65,
   "metadata": {},
   "outputs": [
    {
     "name": "stdout",
     "output_type": "stream",
     "text": [
      "0.8746355685131195\n"
     ]
    }
   ],
   "source": [
    "pipe_svc.fit(X_train_o, y_train_o)\n",
    "preds = pipe_svc.predict(X_val)\n",
    "\n",
    "score_svm = pipe_svc.score(X_val, y_val)\n",
    "print(score_svm)"
   ]
  },
  {
   "cell_type": "code",
   "execution_count": 66,
   "metadata": {},
   "outputs": [
    {
     "name": "stdout",
     "output_type": "stream",
     "text": [
      "              precision    recall  f1-score   support\n",
      "\n",
      "           0       0.95      0.88      0.91       248\n",
      "           1       0.73      0.87      0.79        95\n",
      "\n",
      "    accuracy                           0.87       343\n",
      "   macro avg       0.84      0.87      0.85       343\n",
      "weighted avg       0.89      0.87      0.88       343\n",
      "\n"
     ]
    },
    {
     "data": {
      "text/plain": [
       "<AxesSubplot:>"
      ]
     },
     "execution_count": 66,
     "metadata": {},
     "output_type": "execute_result"
    },
    {
     "data": {
      "image/png": "[encoded data removed]",
      "text/plain": [
       "<Figure size 432x288 with 2 Axes>"
      ]
     },
     "metadata": {
      "needs_background": "light"
     },
     "output_type": "display_data"
    }
   ],
   "source": [
    "print(classification_report(y_val, preds))\n",
    "cm = confusion_matrix(y_val, preds)\n",
    "sns\n",
    "sns.heatmap(cm, annot=True)"
   ]
  },
  {
   "cell_type": "markdown",
   "metadata": {},
   "source": [
    "5 farklı model eğittikten sonra en iyi sonucu Decision Tree'nin verdiği görülüyor. O yüzden test veri seti üzerinde deneme yapılabilir."
   ]
  },
  {
   "cell_type": "code",
   "execution_count": 67,
   "metadata": {},
   "outputs": [
    {
     "data": {
      "text/html": [
       "<div>\n",
       "<style scoped>\n",
       "    .dataframe tbody tr th:only-of-type {\n",
       "        vertical-align: middle;\n",
       "    }\n",
       "\n",
       "    .dataframe tbody tr th {\n",
       "        vertical-align: top;\n",
       "    }\n",
       "\n",
       "    .dataframe thead th {\n",
       "        text-align: right;\n",
       "    }\n",
       "</style>\n",
       "<table border=\"1\" class=\"dataframe\">\n",
       "  <thead>\n",
       "    <tr style=\"text-align: right;\">\n",
       "      <th></th>\n",
       "      <th>Model</th>\n",
       "      <th>Score</th>\n",
       "    </tr>\n",
       "  </thead>\n",
       "  <tbody>\n",
       "    <tr>\n",
       "      <th>2</th>\n",
       "      <td>Decision Tree</td>\n",
       "      <td>0.903790</td>\n",
       "    </tr>\n",
       "    <tr>\n",
       "      <th>3</th>\n",
       "      <td>Random Forest</td>\n",
       "      <td>0.886297</td>\n",
       "    </tr>\n",
       "    <tr>\n",
       "      <th>0</th>\n",
       "      <td>Logistic Regression</td>\n",
       "      <td>0.877551</td>\n",
       "    </tr>\n",
       "    <tr>\n",
       "      <th>4</th>\n",
       "      <td>SVM</td>\n",
       "      <td>0.874636</td>\n",
       "    </tr>\n",
       "    <tr>\n",
       "      <th>1</th>\n",
       "      <td>KNN</td>\n",
       "      <td>0.717201</td>\n",
       "    </tr>\n",
       "  </tbody>\n",
       "</table>\n",
       "</div>"
      ],
      "text/plain": [
       "                 Model     Score\n",
       "2        Decision Tree  0.903790\n",
       "3        Random Forest  0.886297\n",
       "0  Logistic Regression  0.877551\n",
       "4                  SVM  0.874636\n",
       "1                  KNN  0.717201"
      ]
     },
     "execution_count": 67,
     "metadata": {},
     "output_type": "execute_result"
    }
   ],
   "source": [
    "models = pd.DataFrame({\n",
    "    'Model' : ['Logistic Regression', 'KNN', 'Decision Tree', 'Random Forest','SVM'],\n",
    "    'Score' : [score_logreg, score_knn, score_dtc, score_ranfor, score_svm]\n",
    "})\n",
    "\n",
    "models.sort_values(by = 'Score', ascending = False)"
   ]
  },
  {
   "cell_type": "code",
   "execution_count": 68,
   "metadata": {},
   "outputs": [
    {
     "name": "stdout",
     "output_type": "stream",
     "text": [
      "0.925\n"
     ]
    }
   ],
   "source": [
    "preds = pipe_dtc.predict(X_test)\n",
    "\n",
    "score_dtc = pipe_dtc.score(X_test, y_test)\n",
    "print(score_dtc)"
   ]
  },
  {
   "cell_type": "code",
   "execution_count": 69,
   "metadata": {},
   "outputs": [
    {
     "name": "stdout",
     "output_type": "stream",
     "text": [
      "              precision    recall  f1-score   support\n",
      "\n",
      "           0       0.97      0.94      0.95       309\n",
      "           1       0.80      0.89      0.84        91\n",
      "\n",
      "    accuracy                           0.93       400\n",
      "   macro avg       0.88      0.91      0.90       400\n",
      "weighted avg       0.93      0.93      0.93       400\n",
      "\n"
     ]
    },
    {
     "data": {
      "text/plain": [
       "<AxesSubplot:>"
      ]
     },
     "execution_count": 69,
     "metadata": {},
     "output_type": "execute_result"
    },
    {
     "data": {
      "image/png": "[encoded data removed]",
      "text/plain": [
       "<Figure size 432x288 with 2 Axes>"
      ]
     },
     "metadata": {
      "needs_background": "light"
     },
     "output_type": "display_data"
    }
   ],
   "source": [
    "print(classification_report(y_test, preds))\n",
    "cm = confusion_matrix(y_test, preds)\n",
    "sns\n",
    "sns.heatmap(cm, annot=True)"
   ]
  },
  {
   "cell_type": "markdown",
   "metadata": {},
   "source": [
    "- Validation dataseti üzerinde %92 oranında başarı sağlarken test dataseti üzerinde %90 başarı sağlamıştır. \n",
    "- Burada önemli olan nokta fraud değerleri yakalayabilme oranıdır. Fraud olmadığı düşünülen ama fraud olan 10 tane veri vardır. Bu %10'luk bir hata oranını gösterir.\n",
    "- Ayrıca fraud olduğu düşünülen ama fraud olmayan verilerin toplamıyla 30 veri yanlış yorumlanmıştır. Bu da kabaca her 3 işlemden 1 tanesi yanlıştır anlamına gelebilir."
   ]
  },
  {
   "cell_type": "markdown",
   "metadata": {},
   "source": [
    "# Soru 5"
   ]
  },
  {
   "cell_type": "markdown",
   "metadata": {},
   "source": [
    "**predict_proba metoduyla oran nasıl hesaplanır ve treshold nasıl değiştirilir?**"
   ]
  },
  {
   "cell_type": "markdown",
   "metadata": {},
   "source": [
    "Bir sınıflandırma probleminde, sınıf değerlerini doğrudan tahmin etmeye karar verebiliriz.\n",
    "\n",
    "Alternatif olarak, bunun yerine her sınıf için olasılıkları tahmin etmek daha esnek olabilir. Bunun nedeni, tahmin edilen olasılıkların nasıl yorumlanacağına ilişkin eşiği seçme ve hatta kalibre etme yeteneği sağlamaktır.\n",
    "\n",
    "predict() ve predict_proba() fonksiyonlarının farkı; regresyon, sınıflandırma, kümeleme gibi yöntemler kullanarak yapacağınız çalışmalarda tahmin edilen etiket bilgisini predict fonksiyonuyla elde edilebilir, sınıflandırma problemlerinde gözlemlerin sınıflara ait olma olasılıklarını elde etmek istiyorsanız predict_proba fonksiyonunun kullanılması gerekiyor.\n",
    "\n",
    "- Olasılıkları sınıf etiketlerine yorumlamak için varsayılan eşik 0,5'tir ve bu hiperparametrenin ayarlanmasına ***threshold moving*** adı verilir.\n",
    "- Threshold değeri ROC eğrisi kullanılarak belirlenebilir.\n",
    "\n",
    "Burada örnek olarak mantıksal regresyon modeli seçilmiştir."
   ]
  },
  {
   "cell_type": "code",
   "execution_count": 83,
   "metadata": {},
   "outputs": [],
   "source": [
    "#threshold değeri rastgele seçilerek predict_proba metodunun yazdırdığı olasılık değerleriyle karşılaştırılır.\n",
    "threshold = 0.25\n",
    "predictions = (pipe_log_reg.predict_proba(X_test)[:, 1] >= threshold).astype(int)"
   ]
  },
  {
   "cell_type": "code",
   "execution_count": 84,
   "metadata": {},
   "outputs": [
    {
     "name": "stdout",
     "output_type": "stream",
     "text": [
      "0.9125\n"
     ]
    }
   ],
   "source": [
    "#mantıksal regresyon için test dataseti değerleri ölçülür. yukarıda train işlemleri tamamlanmıştı\n",
    "preds = pipe_log_reg.predict(X_test)\n",
    "score_logreg = pipe_log_reg.score(X_test, y_test)\n",
    "print(score_logreg)"
   ]
  },
  {
   "cell_type": "code",
   "execution_count": 85,
   "metadata": {},
   "outputs": [
    {
     "name": "stdout",
     "output_type": "stream",
     "text": [
      "Valuation for test data only:\n",
      "              precision    recall  f1-score   support\n",
      "\n",
      "           0       0.97      0.92      0.94       309\n",
      "           1       0.76      0.90      0.82        91\n",
      "\n",
      "    accuracy                           0.91       400\n",
      "   macro avg       0.86      0.91      0.88       400\n",
      "weighted avg       0.92      0.91      0.91       400\n",
      "\n",
      "----------------------------------------------------------------------\n",
      "Valuation for test data only  (new_threshold):\n",
      "              precision    recall  f1-score   support\n",
      "\n",
      "           0       0.98      0.83      0.90       309\n",
      "           1       0.62      0.95      0.75        91\n",
      "\n",
      "    accuracy                           0.86       400\n",
      "   macro avg       0.80      0.89      0.83       400\n",
      "weighted avg       0.90      0.86      0.87       400\n",
      "\n"
     ]
    }
   ],
   "source": [
    "#threshold belirlenmeden önceki değerler ve threshold belirlendikten sonraki değerler yazdırılır.\n",
    "print('Valuation for test data only:')\n",
    "print(classification_report(y_test, preds))\n",
    "print(\"----------------------------------------------------------------------\")\n",
    "print('Valuation for test data only  (new_threshold):')\n",
    "print(classification_report(y_test, predictions))"
   ]
  },
  {
   "cell_type": "markdown",
   "metadata": {},
   "source": [
    "Buna göre belirlenen threshold değeri 0'ların yakalanmasında düşüş gösterse de fraud yakalama oranını hiç olmadığı kadar arttırmıştır. "
   ]
  },
  {
   "cell_type": "code",
   "execution_count": null,
   "metadata": {},
   "outputs": [],
   "source": []
  }
 ],
 "metadata": {
  "kernelspec": {
   "display_name": "Python 3",
   "language": "python",
   "name": "python3"
  },
  "language_info": {
   "codemirror_mode": {
    "name": "ipython",
    "version": 3
   },
   "file_extension": ".py",
   "mimetype": "text/x-python",
   "name": "python",
   "nbconvert_exporter": "python",
   "pygments_lexer": "ipython3",
   "version": "3.7.6"
  }
 },
 "nbformat": 4,
 "nbformat_minor": 4
}
